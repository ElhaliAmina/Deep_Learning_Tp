{
 "cells": [
  {
   "cell_type": "markdown",
   "metadata": {},
   "source": [
    " # Deep Learning: Tp-ANN"
   ]
  },
  {
   "cell_type": "markdown",
   "metadata": {},
   "source": [
    "# Setup"
   ]
  },
  {
   "cell_type": "markdown",
   "metadata": {},
   "source": [
    "First, let's import a few common modules, ensure MatplotLib plots figures inline and prepare a function to save the figures. We also check that Python 3.5 or later is installed (although Python 2.x may work, it is deprecated so we strongly recommend you use Python 3 instead), as well as Scikit-Learn ≥0.20 and TensorFlow ≥2.0."
   ]
  },
  {
   "cell_type": "code",
   "execution_count": 1,
   "metadata": {},
   "outputs": [],
   "source": [
    "import numpy as np\n",
    "import os"
   ]
  },
  {
   "cell_type": "code",
   "execution_count": 2,
   "metadata": {},
   "outputs": [],
   "source": [
    "# to make this notebook's output stable across runs\n",
    "np.random.seed(42)\n",
    "\n",
    "# To plot pretty figures\n",
    "%matplotlib inline\n",
    "import matplotlib as mpl\n",
    "import matplotlib.pyplot as plt\n",
    "mpl.rc('axes', labelsize=14)\n",
    "mpl.rc('xtick', labelsize=12)\n",
    "mpl.rc('ytick', labelsize=12)"
   ]
  },
  {
   "cell_type": "code",
   "execution_count": 3,
   "metadata": {},
   "outputs": [],
   "source": [
    "# Ignore useless warnings (see SciPy issue #5998)\n",
    "import warnings\n",
    "warnings.filterwarnings(action=\"ignore\", message=\"^internal gelsd\")"
   ]
  },
  {
   "cell_type": "markdown",
   "metadata": {},
   "source": [
    "# Building an Image Classifier"
   ]
  },
  {
   "cell_type": "markdown",
   "metadata": {},
   "source": [
    "First let's import TensorFlow and Keras."
   ]
  },
  {
   "cell_type": "code",
   "execution_count": 4,
   "metadata": {},
   "outputs": [],
   "source": [
    "import tensorflow as tf\n",
    "from tensorflow import keras"
   ]
  },
  {
   "cell_type": "code",
   "execution_count": 5,
   "metadata": {},
   "outputs": [
    {
     "data": {
      "text/plain": [
       "'2.3.1'"
      ]
     },
     "execution_count": 5,
     "metadata": {},
     "output_type": "execute_result"
    }
   ],
   "source": [
    "tf.__version__"
   ]
  },
  {
   "cell_type": "markdown",
   "metadata": {},
   "source": [
    "Let's start by loading the fashion MNIST dataset. Keras has a number of functions to load popular datasets in keras.datasets. The dataset is already split for you between a training set and a test set, but it can be useful to split the training set further to have a validation set:"
   ]
  },
  {
   "cell_type": "code",
   "execution_count": 6,
   "metadata": {},
   "outputs": [],
   "source": [
    "fashion_mnist = keras.datasets.fashion_mnist\n",
    "(X_train_full, y_train_full), (X_test, y_test) = fashion_mnist.load_data()"
   ]
  },
  {
   "cell_type": "markdown",
   "metadata": {},
   "source": [
    "The training set contains 60,000 grayscale images, each 28x28 pixels:"
   ]
  },
  {
   "cell_type": "code",
   "execution_count": 7,
   "metadata": {},
   "outputs": [
    {
     "data": {
      "text/plain": [
       "(60000, 28, 28)"
      ]
     },
     "execution_count": 7,
     "metadata": {},
     "output_type": "execute_result"
    }
   ],
   "source": [
    "X_train_full.shape"
   ]
  },
  {
   "cell_type": "markdown",
   "metadata": {},
   "source": [
    "Each pixel intensity is represented as a byte (0 to 255):"
   ]
  },
  {
   "cell_type": "code",
   "execution_count": 8,
   "metadata": {},
   "outputs": [
    {
     "data": {
      "text/plain": [
       "array([[[0, 0, 0, ..., 0, 0, 0],\n",
       "        [0, 0, 0, ..., 0, 0, 0],\n",
       "        [0, 0, 0, ..., 0, 0, 0],\n",
       "        ...,\n",
       "        [0, 0, 0, ..., 0, 0, 0],\n",
       "        [0, 0, 0, ..., 0, 0, 0],\n",
       "        [0, 0, 0, ..., 0, 0, 0]],\n",
       "\n",
       "       [[0, 0, 0, ..., 0, 0, 0],\n",
       "        [0, 0, 0, ..., 0, 0, 0],\n",
       "        [0, 0, 0, ..., 0, 0, 0],\n",
       "        ...,\n",
       "        [0, 0, 0, ..., 0, 0, 0],\n",
       "        [0, 0, 0, ..., 0, 0, 0],\n",
       "        [0, 0, 0, ..., 0, 0, 0]],\n",
       "\n",
       "       [[0, 0, 0, ..., 0, 0, 0],\n",
       "        [0, 0, 0, ..., 0, 0, 0],\n",
       "        [0, 0, 0, ..., 0, 0, 0],\n",
       "        ...,\n",
       "        [0, 0, 0, ..., 0, 0, 0],\n",
       "        [0, 0, 0, ..., 0, 0, 0],\n",
       "        [0, 0, 0, ..., 0, 0, 0]],\n",
       "\n",
       "       ...,\n",
       "\n",
       "       [[0, 0, 0, ..., 0, 0, 0],\n",
       "        [0, 0, 0, ..., 0, 0, 0],\n",
       "        [0, 0, 0, ..., 0, 0, 0],\n",
       "        ...,\n",
       "        [0, 0, 0, ..., 0, 0, 0],\n",
       "        [0, 0, 0, ..., 0, 0, 0],\n",
       "        [0, 0, 0, ..., 0, 0, 0]],\n",
       "\n",
       "       [[0, 0, 0, ..., 0, 0, 0],\n",
       "        [0, 0, 0, ..., 0, 0, 0],\n",
       "        [0, 0, 0, ..., 0, 0, 0],\n",
       "        ...,\n",
       "        [0, 0, 0, ..., 0, 0, 0],\n",
       "        [0, 0, 0, ..., 0, 0, 0],\n",
       "        [0, 0, 0, ..., 0, 0, 0]],\n",
       "\n",
       "       [[0, 0, 0, ..., 0, 0, 0],\n",
       "        [0, 0, 0, ..., 0, 0, 0],\n",
       "        [0, 0, 0, ..., 0, 0, 0],\n",
       "        ...,\n",
       "        [0, 0, 0, ..., 0, 0, 0],\n",
       "        [0, 0, 0, ..., 0, 0, 0],\n",
       "        [0, 0, 0, ..., 0, 0, 0]]], dtype=uint8)"
      ]
     },
     "execution_count": 8,
     "metadata": {},
     "output_type": "execute_result"
    }
   ],
   "source": [
    "X_train_full"
   ]
  },
  {
   "cell_type": "code",
   "execution_count": 9,
   "metadata": {},
   "outputs": [
    {
     "data": {
      "text/plain": [
       "(60000,)"
      ]
     },
     "execution_count": 9,
     "metadata": {},
     "output_type": "execute_result"
    }
   ],
   "source": [
    "y_train_full.shape"
   ]
  },
  {
   "cell_type": "code",
   "execution_count": 10,
   "metadata": {},
   "outputs": [
    {
     "data": {
      "text/plain": [
       "array([9, 0, 0, ..., 3, 0, 5], dtype=uint8)"
      ]
     },
     "execution_count": 10,
     "metadata": {},
     "output_type": "execute_result"
    }
   ],
   "source": [
    "y_train_full"
   ]
  },
  {
   "cell_type": "code",
   "execution_count": 11,
   "metadata": {},
   "outputs": [
    {
     "data": {
      "text/plain": [
       "(10000, 28, 28)"
      ]
     },
     "execution_count": 11,
     "metadata": {},
     "output_type": "execute_result"
    }
   ],
   "source": [
    "X_test.shape"
   ]
  },
  {
   "cell_type": "code",
   "execution_count": 12,
   "metadata": {},
   "outputs": [
    {
     "data": {
      "text/plain": [
       "array([9, 2, 1, ..., 8, 1, 5], dtype=uint8)"
      ]
     },
     "execution_count": 12,
     "metadata": {},
     "output_type": "execute_result"
    }
   ],
   "source": [
    "y_test"
   ]
  },
  {
   "cell_type": "markdown",
   "metadata": {},
   "source": [
    "Let's split the full training set into a validation set and a (smaller) training set. We also scale the pixel intensities down to the 0-1 range and convert them to floats, by dividing by 255."
   ]
  },
  {
   "cell_type": "code",
   "execution_count": 13,
   "metadata": {},
   "outputs": [],
   "source": [
    "X_valid, X_train = X_train_full[:5000] / 255., X_train_full[5000:] / 255.\n",
    "y_valid, y_train = y_train_full[:5000], y_train_full[5000:]\n",
    "X_test = X_test / 255."
   ]
  },
  {
   "cell_type": "markdown",
   "metadata": {},
   "source": [
    "The validation set contains 5,000 images, and the test set contains 10,000 images:"
   ]
  },
  {
   "cell_type": "code",
   "execution_count": 14,
   "metadata": {},
   "outputs": [
    {
     "data": {
      "text/plain": [
       "(5000, 28, 28)"
      ]
     },
     "execution_count": 14,
     "metadata": {},
     "output_type": "execute_result"
    }
   ],
   "source": [
    "X_valid.shape"
   ]
  },
  {
   "cell_type": "code",
   "execution_count": 15,
   "metadata": {},
   "outputs": [
    {
     "data": {
      "text/plain": [
       "(55000, 28, 28)"
      ]
     },
     "execution_count": 15,
     "metadata": {},
     "output_type": "execute_result"
    }
   ],
   "source": [
    "X_train.shape"
   ]
  },
  {
   "cell_type": "code",
   "execution_count": 16,
   "metadata": {},
   "outputs": [
    {
     "data": {
      "text/plain": [
       "(10000, 28, 28)"
      ]
     },
     "execution_count": 16,
     "metadata": {},
     "output_type": "execute_result"
    }
   ],
   "source": [
    "X_test.shape"
   ]
  },
  {
   "cell_type": "markdown",
   "metadata": {},
   "source": [
    "You can plot an image using Matplotlib's imshow() function, with a 'binary' color map:"
   ]
  },
  {
   "cell_type": "code",
   "execution_count": 17,
   "metadata": {},
   "outputs": [
    {
     "data": {
      "image/png": "[encoded data removed]",
      "text/plain": [
       "<Figure size 432x288 with 1 Axes>"
      ]
     },
     "metadata": {
      "needs_background": "light"
     },
     "output_type": "display_data"
    }
   ],
   "source": [
    "plt.imshow(X_train[0], cmap=\"binary\")\n",
    "plt.axis('off')\n",
    "plt.show()"
   ]
  },
  {
   "cell_type": "code",
   "execution_count": 18,
   "metadata": {},
   "outputs": [
    {
     "data": {
      "image/png": "[encoded data removed]",
      "text/plain": [
       "<Figure size 432x288 with 1 Axes>"
      ]
     },
     "metadata": {
      "needs_background": "light"
     },
     "output_type": "display_data"
    }
   ],
   "source": [
    "plt.imshow(X_valid[0], cmap=\"binary\")\n",
    "plt.axis('off')\n",
    "plt.show()"
   ]
  },
  {
   "cell_type": "code",
   "execution_count": 19,
   "metadata": {},
   "outputs": [
    {
     "data": {
      "image/png": "[encoded data removed]",
      "text/plain": [
       "<Figure size 432x288 with 1 Axes>"
      ]
     },
     "metadata": {
      "needs_background": "light"
     },
     "output_type": "display_data"
    }
   ],
   "source": [
    "plt.imshow(X_test[0], cmap=\"binary\")\n",
    "plt.axis('off')\n",
    "plt.show()"
   ]
  },
  {
   "cell_type": "markdown",
   "metadata": {},
   "source": [
    "The labels are the class IDs (represented as uint8), from 0 to 9:"
   ]
  },
  {
   "cell_type": "code",
   "execution_count": 50,
   "metadata": {},
   "outputs": [
    {
     "data": {
      "text/plain": [
       "array([4, 0, 7, ..., 3, 0, 5], dtype=uint8)"
      ]
     },
     "execution_count": 50,
     "metadata": {},
     "output_type": "execute_result"
    }
   ],
   "source": [
    "y_train"
   ]
  },
  {
   "cell_type": "markdown",
   "metadata": {},
   "source": [
    "Here are the corresponding class names:"
   ]
  },
  {
   "cell_type": "code",
   "execution_count": 21,
   "metadata": {},
   "outputs": [],
   "source": [
    "class_names = [\"T-shirt/top\", \"Trouser\", \"Pullover\", \"Dress\", \"Coat\",\"Sandal\", \"Shirt\", \"Sneaker\", \"Bag\", \"Ankle boot\"]"
   ]
  },
  {
   "cell_type": "markdown",
   "metadata": {},
   "source": [
    "So the first image in the training set is a coat:"
   ]
  },
  {
   "cell_type": "code",
   "execution_count": 22,
   "metadata": {},
   "outputs": [
    {
     "data": {
      "text/plain": [
       "'Coat'"
      ]
     },
     "execution_count": 22,
     "metadata": {},
     "output_type": "execute_result"
    }
   ],
   "source": [
    "class_names[y_train[0]]"
   ]
  },
  {
   "cell_type": "markdown",
   "metadata": {},
   "source": [
    "Let's take a look at a sample of the images in the dataset:"
   ]
  },
  {
   "cell_type": "code",
   "execution_count": 23,
   "metadata": {},
   "outputs": [
    {
     "data": {
      "image/png": "[encoded data removed]",
      "text/plain": [
       "<Figure size 864x345.6 with 40 Axes>"
      ]
     },
     "metadata": {
      "needs_background": "light"
     },
     "output_type": "display_data"
    }
   ],
   "source": [
    "n_rows = 4\n",
    "n_cols = 10\n",
    "plt.figure(figsize=(n_cols * 1.2, n_rows * 1.2))\n",
    "for row in range(n_rows):\n",
    "    for col in range(n_cols):\n",
    "        index = n_cols * row + col\n",
    "        plt.subplot(n_rows, n_cols, index + 1)\n",
    "        plt.imshow(X_train[index], cmap=\"binary\", interpolation=\"nearest\")\n",
    "        plt.axis('off')\n",
    "        plt.title(class_names[y_train[index]], fontsize=12)\n",
    "plt.subplots_adjust(wspace=0.1, hspace=0.5)\n",
    "plt.show()"
   ]
  },
  {
   "cell_type": "markdown",
   "metadata": {},
   "source": [
    "# Construct a Model"
   ]
  },
  {
   "cell_type": "code",
   "execution_count": 51,
   "metadata": {},
   "outputs": [],
   "source": [
    "from IPython.display import Image"
   ]
  },
  {
   "cell_type": "markdown",
   "metadata": {},
   "source": [
    "## ReLu"
   ]
  },
  {
   "cell_type": "code",
   "execution_count": 25,
   "metadata": {},
   "outputs": [
    {
     "data": {
      "text/html": [
       "<img src=\"https://intelligence-artificielle.agency/wp-content/uploads/2018/03/Capture-d’écran-2018-03-06-à-11.38.12.png\"/>"
      ],
      "text/plain": [
       "<IPython.core.display.Image object>"
      ]
     },
     "execution_count": 25,
     "metadata": {},
     "output_type": "execute_result"
    }
   ],
   "source": [
    "Image(url=\"https://intelligence-artificielle.agency/wp-content/uploads/2018/03/Capture-d’écran-2018-03-06-à-11.38.12.png\")"
   ]
  },
  {
   "cell_type": "markdown",
   "metadata": {},
   "source": [
    "## softmax"
   ]
  },
  {
   "cell_type": "code",
   "execution_count": 26,
   "metadata": {},
   "outputs": [
    {
     "data": {
      "text/html": [
       "<img src=\"https://themaverickmeerkat.com/img/softmax/sigmoid_plot.jpg\"/>"
      ],
      "text/plain": [
       "<IPython.core.display.Image object>"
      ]
     },
     "execution_count": 26,
     "metadata": {},
     "output_type": "execute_result"
    }
   ],
   "source": [
    "Image(url=\"https://themaverickmeerkat.com/img/softmax/sigmoid_plot.jpg\")"
   ]
  },
  {
   "cell_type": "code",
   "execution_count": 27,
   "metadata": {},
   "outputs": [],
   "source": [
    "model = keras.models.Sequential()\n",
    "model.add(keras.layers.Flatten(input_shape=[28, 28]))\n",
    "model.add(keras.layers.Dense(300, activation=\"relu\"))\n",
    "model.add(keras.layers.Dense(100, activation=\"relu\"))\n",
    "model.add(keras.layers.Dense(10, activation=\"softmax\"))"
   ]
  },
  {
   "cell_type": "code",
   "execution_count": 28,
   "metadata": {},
   "outputs": [],
   "source": [
    "keras.backend.clear_session()\n",
    "np.random.seed(42)#?"
   ]
  },
  {
   "cell_type": "code",
   "execution_count": 29,
   "metadata": {},
   "outputs": [
    {
     "data": {
      "text/plain": [
       "[<tensorflow.python.keras.layers.core.Flatten at 0x14f7efaf388>,\n",
       " <tensorflow.python.keras.layers.core.Dense at 0x14f7efaf0c8>,\n",
       " <tensorflow.python.keras.layers.core.Dense at 0x14f7efed148>,\n",
       " <tensorflow.python.keras.layers.core.Dense at 0x14f7eff6148>]"
      ]
     },
     "execution_count": 29,
     "metadata": {},
     "output_type": "execute_result"
    }
   ],
   "source": [
    "model.layers"
   ]
  },
  {
   "cell_type": "code",
   "execution_count": 30,
   "metadata": {},
   "outputs": [
    {
     "name": "stdout",
     "output_type": "stream",
     "text": [
      "Model: \"sequential\"\n",
      "_________________________________________________________________\n",
      "Layer (type)                 Output Shape              Param #   \n",
      "=================================================================\n",
      "flatten (Flatten)            (None, 784)               0         \n",
      "_________________________________________________________________\n",
      "dense (Dense)                (None, 300)               235500    \n",
      "_________________________________________________________________\n",
      "dense_1 (Dense)              (None, 100)               30100     \n",
      "_________________________________________________________________\n",
      "dense_2 (Dense)              (None, 10)                1010      \n",
      "=================================================================\n",
      "Total params: 266,610\n",
      "Trainable params: 266,610\n",
      "Non-trainable params: 0\n",
      "_________________________________________________________________\n"
     ]
    }
   ],
   "source": [
    "model.summary()"
   ]
  },
  {
   "cell_type": "code",
   "execution_count": 31,
   "metadata": {},
   "outputs": [
    {
     "data": {
      "text/plain": [
       "'dense'"
      ]
     },
     "execution_count": 31,
     "metadata": {},
     "output_type": "execute_result"
    }
   ],
   "source": [
    "hidden1 = model.layers[1]\n",
    "hidden1.name"
   ]
  },
  {
   "cell_type": "code",
   "execution_count": 32,
   "metadata": {},
   "outputs": [
    {
     "data": {
      "text/plain": [
       "True"
      ]
     },
     "execution_count": 32,
     "metadata": {},
     "output_type": "execute_result"
    }
   ],
   "source": [
    "model.get_layer(hidden1.name) is hidden1"
   ]
  },
  {
   "cell_type": "code",
   "execution_count": 33,
   "metadata": {},
   "outputs": [],
   "source": [
    "weights, biases = hidden1.get_weights()"
   ]
  },
  {
   "cell_type": "code",
   "execution_count": 34,
   "metadata": {},
   "outputs": [
    {
     "data": {
      "text/plain": [
       "array([[ 0.03107753,  0.0051114 , -0.04602443, ...,  0.01262847,\n",
       "         0.00738776,  0.01737478],\n",
       "       [-0.02954444,  0.00574534,  0.01770892, ..., -0.07226982,\n",
       "        -0.03606499,  0.07219982],\n",
       "       [-0.05951985,  0.06372052, -0.05115554, ...,  0.05702752,\n",
       "        -0.04493882,  0.00809323],\n",
       "       ...,\n",
       "       [-0.04688379,  0.03341553, -0.00175001, ...,  0.05827144,\n",
       "        -0.07162615, -0.02342049],\n",
       "       [ 0.01166056,  0.06417944,  0.05573493, ..., -0.0573824 ,\n",
       "         0.03002953,  0.01660024],\n",
       "       [-0.04547242, -0.04335073,  0.00466099, ..., -0.01915218,\n",
       "         0.06174779,  0.01303404]], dtype=float32)"
      ]
     },
     "execution_count": 34,
     "metadata": {},
     "output_type": "execute_result"
    }
   ],
   "source": [
    "weights"
   ]
  },
  {
   "cell_type": "code",
   "execution_count": 35,
   "metadata": {},
   "outputs": [
    {
     "data": {
      "text/plain": [
       "(784, 300)"
      ]
     },
     "execution_count": 35,
     "metadata": {},
     "output_type": "execute_result"
    }
   ],
   "source": [
    "weights.shape"
   ]
  },
  {
   "cell_type": "code",
   "execution_count": 36,
   "metadata": {},
   "outputs": [
    {
     "data": {
      "text/plain": [
       "array([0., 0., 0., 0., 0., 0., 0., 0., 0., 0., 0., 0., 0., 0., 0., 0., 0.,\n",
       "       0., 0., 0., 0., 0., 0., 0., 0., 0., 0., 0., 0., 0., 0., 0., 0., 0.,\n",
       "       0., 0., 0., 0., 0., 0., 0., 0., 0., 0., 0., 0., 0., 0., 0., 0., 0.,\n",
       "       0., 0., 0., 0., 0., 0., 0., 0., 0., 0., 0., 0., 0., 0., 0., 0., 0.,\n",
       "       0., 0., 0., 0., 0., 0., 0., 0., 0., 0., 0., 0., 0., 0., 0., 0., 0.,\n",
       "       0., 0., 0., 0., 0., 0., 0., 0., 0., 0., 0., 0., 0., 0., 0., 0., 0.,\n",
       "       0., 0., 0., 0., 0., 0., 0., 0., 0., 0., 0., 0., 0., 0., 0., 0., 0.,\n",
       "       0., 0., 0., 0., 0., 0., 0., 0., 0., 0., 0., 0., 0., 0., 0., 0., 0.,\n",
       "       0., 0., 0., 0., 0., 0., 0., 0., 0., 0., 0., 0., 0., 0., 0., 0., 0.,\n",
       "       0., 0., 0., 0., 0., 0., 0., 0., 0., 0., 0., 0., 0., 0., 0., 0., 0.,\n",
       "       0., 0., 0., 0., 0., 0., 0., 0., 0., 0., 0., 0., 0., 0., 0., 0., 0.,\n",
       "       0., 0., 0., 0., 0., 0., 0., 0., 0., 0., 0., 0., 0., 0., 0., 0., 0.,\n",
       "       0., 0., 0., 0., 0., 0., 0., 0., 0., 0., 0., 0., 0., 0., 0., 0., 0.,\n",
       "       0., 0., 0., 0., 0., 0., 0., 0., 0., 0., 0., 0., 0., 0., 0., 0., 0.,\n",
       "       0., 0., 0., 0., 0., 0., 0., 0., 0., 0., 0., 0., 0., 0., 0., 0., 0.,\n",
       "       0., 0., 0., 0., 0., 0., 0., 0., 0., 0., 0., 0., 0., 0., 0., 0., 0.,\n",
       "       0., 0., 0., 0., 0., 0., 0., 0., 0., 0., 0., 0., 0., 0., 0., 0., 0.,\n",
       "       0., 0., 0., 0., 0., 0., 0., 0., 0., 0., 0.], dtype=float32)"
      ]
     },
     "execution_count": 36,
     "metadata": {},
     "output_type": "execute_result"
    }
   ],
   "source": [
    "biases"
   ]
  },
  {
   "cell_type": "code",
   "execution_count": 37,
   "metadata": {},
   "outputs": [
    {
     "data": {
      "text/plain": [
       "(300,)"
      ]
     },
     "execution_count": 37,
     "metadata": {},
     "output_type": "execute_result"
    }
   ],
   "source": [
    "biases.shape"
   ]
  },
  {
   "cell_type": "markdown",
   "metadata": {},
   "source": [
    "# Compile the Model"
   ]
  },
  {
   "cell_type": "markdown",
   "metadata": {},
   "source": [
    "Here you can chose the loss function, the optimizer, the performance metric, etc. check Keras documentation for further details."
   ]
  },
  {
   "cell_type": "code",
   "execution_count": 38,
   "metadata": {},
   "outputs": [],
   "source": [
    "model.compile(loss=\"sparse_categorical_crossentropy\",\n",
    "              optimizer=\"sgd\",\n",
    "              metrics=[\"accuracy\"])"
   ]
  },
  {
   "cell_type": "markdown",
   "metadata": {},
   "source": [
    "# Train the model"
   ]
  },
  {
   "cell_type": "markdown",
   "metadata": {},
   "source": [
    "Here you can chose how many epochs you need and the batch size."
   ]
  },
  {
   "cell_type": "code",
   "execution_count": 39,
   "metadata": {},
   "outputs": [
    {
     "name": "stdout",
     "output_type": "stream",
     "text": [
      "Epoch 1/30\n",
      "1719/1719 [==============================] - 6s 3ms/step - loss: 0.7274 - accuracy: 0.7594 - val_loss: 0.5339 - val_accuracy: 0.8168\n",
      "Epoch 2/30\n",
      "1719/1719 [==============================] - 6s 4ms/step - loss: 0.4902 - accuracy: 0.8297 - val_loss: 0.4708 - val_accuracy: 0.8400\n",
      "Epoch 3/30\n",
      "1719/1719 [==============================] - 6s 3ms/step - loss: 0.4436 - accuracy: 0.8452 - val_loss: 0.4100 - val_accuracy: 0.8594\n",
      "Epoch 4/30\n",
      "1719/1719 [==============================] - 6s 3ms/step - loss: 0.4171 - accuracy: 0.8529 - val_loss: 0.4062 - val_accuracy: 0.8586\n",
      "Epoch 5/30\n",
      "1719/1719 [==============================] - 6s 3ms/step - loss: 0.3969 - accuracy: 0.8597 - val_loss: 0.4072 - val_accuracy: 0.8536\n",
      "Epoch 6/30\n",
      "1719/1719 [==============================] - 6s 3ms/step - loss: 0.3809 - accuracy: 0.8663 - val_loss: 0.3812 - val_accuracy: 0.8682\n",
      "Epoch 7/30\n",
      "1719/1719 [==============================] - 6s 4ms/step - loss: 0.3665 - accuracy: 0.8716 - val_loss: 0.3661 - val_accuracy: 0.8694\n",
      "Epoch 8/30\n",
      "1719/1719 [==============================] - 6s 3ms/step - loss: 0.3558 - accuracy: 0.8738 - val_loss: 0.3563 - val_accuracy: 0.8760\n",
      "Epoch 9/30\n",
      "1719/1719 [==============================] - 6s 4ms/step - loss: 0.3457 - accuracy: 0.8788 - val_loss: 0.3685 - val_accuracy: 0.8694\n",
      "Epoch 10/30\n",
      "1719/1719 [==============================] - 6s 3ms/step - loss: 0.3363 - accuracy: 0.8798 - val_loss: 0.3468 - val_accuracy: 0.8790\n",
      "Epoch 11/30\n",
      "1719/1719 [==============================] - 7s 4ms/step - loss: 0.3266 - accuracy: 0.8845 - val_loss: 0.3495 - val_accuracy: 0.8764\n",
      "Epoch 12/30\n",
      "1719/1719 [==============================] - 5s 3ms/step - loss: 0.3195 - accuracy: 0.8863 - val_loss: 0.3398 - val_accuracy: 0.8814\n",
      "Epoch 13/30\n",
      "1719/1719 [==============================] - 6s 3ms/step - loss: 0.3125 - accuracy: 0.8894 - val_loss: 0.3282 - val_accuracy: 0.8840\n",
      "Epoch 14/30\n",
      "1719/1719 [==============================] - 6s 4ms/step - loss: 0.3048 - accuracy: 0.8909 - val_loss: 0.3320 - val_accuracy: 0.8802\n",
      "Epoch 15/30\n",
      "1719/1719 [==============================] - 6s 3ms/step - loss: 0.2989 - accuracy: 0.8925 - val_loss: 0.3251 - val_accuracy: 0.8852\n",
      "Epoch 16/30\n",
      "1719/1719 [==============================] - 6s 4ms/step - loss: 0.2920 - accuracy: 0.8950 - val_loss: 0.3167 - val_accuracy: 0.8898\n",
      "Epoch 17/30\n",
      "1719/1719 [==============================] - 6s 4ms/step - loss: 0.2869 - accuracy: 0.8975 - val_loss: 0.3149 - val_accuracy: 0.8882\n",
      "Epoch 18/30\n",
      "1719/1719 [==============================] - 6s 3ms/step - loss: 0.2811 - accuracy: 0.8984 - val_loss: 0.3199 - val_accuracy: 0.8882\n",
      "Epoch 19/30\n",
      "1719/1719 [==============================] - 6s 4ms/step - loss: 0.2765 - accuracy: 0.9005 - val_loss: 0.3244 - val_accuracy: 0.8864\n",
      "Epoch 20/30\n",
      "1719/1719 [==============================] - 6s 4ms/step - loss: 0.2702 - accuracy: 0.9017 - val_loss: 0.3254 - val_accuracy: 0.8850\n",
      "Epoch 21/30\n",
      "1719/1719 [==============================] - 6s 4ms/step - loss: 0.2658 - accuracy: 0.9042 - val_loss: 0.3120 - val_accuracy: 0.8840\n",
      "Epoch 22/30\n",
      "1719/1719 [==============================] - 6s 4ms/step - loss: 0.2613 - accuracy: 0.9058 - val_loss: 0.3106 - val_accuracy: 0.8930\n",
      "Epoch 23/30\n",
      "1719/1719 [==============================] - 6s 3ms/step - loss: 0.2575 - accuracy: 0.9073 - val_loss: 0.3219 - val_accuracy: 0.8820\n",
      "Epoch 24/30\n",
      "1719/1719 [==============================] - 6s 4ms/step - loss: 0.2531 - accuracy: 0.9084 - val_loss: 0.2998 - val_accuracy: 0.8886\n",
      "Epoch 25/30\n",
      "1719/1719 [==============================] - 6s 3ms/step - loss: 0.2487 - accuracy: 0.9104 - val_loss: 0.2981 - val_accuracy: 0.8942\n",
      "Epoch 26/30\n",
      "1719/1719 [==============================] - 5s 3ms/step - loss: 0.2431 - accuracy: 0.9131 - val_loss: 0.3199 - val_accuracy: 0.8902\n",
      "Epoch 27/30\n",
      "1719/1719 [==============================] - 7s 4ms/step - loss: 0.2395 - accuracy: 0.9137 - val_loss: 0.3096 - val_accuracy: 0.8906\n",
      "Epoch 28/30\n",
      "1719/1719 [==============================] - 6s 3ms/step - loss: 0.2356 - accuracy: 0.9152 - val_loss: 0.2991 - val_accuracy: 0.8920\n",
      "Epoch 29/30\n",
      "1719/1719 [==============================] - 6s 3ms/step - loss: 0.2330 - accuracy: 0.9160 - val_loss: 0.3127 - val_accuracy: 0.8860\n",
      "Epoch 30/30\n",
      "1719/1719 [==============================] - 7s 4ms/step - loss: 0.2287 - accuracy: 0.9176 - val_loss: 0.2946 - val_accuracy: 0.8948\n"
     ]
    }
   ],
   "source": [
    "history = model.fit(X_train, y_train, batch_size=32, epochs=30,\n",
    "                    validation_data=(X_valid, y_valid))"
   ]
  },
  {
   "cell_type": "code",
   "execution_count": 40,
   "metadata": {},
   "outputs": [
    {
     "data": {
      "text/plain": [
       "{'verbose': 1, 'epochs': 30, 'steps': 1719}"
      ]
     },
     "execution_count": 40,
     "metadata": {},
     "output_type": "execute_result"
    }
   ],
   "source": [
    "history.params"
   ]
  },
  {
   "cell_type": "code",
   "execution_count": 41,
   "metadata": {},
   "outputs": [
    {
     "name": "stdout",
     "output_type": "stream",
     "text": [
      "[0, 1, 2, 3, 4, 5, 6, 7, 8, 9, 10, 11, 12, 13, 14, 15, 16, 17, 18, 19, 20, 21, 22, 23, 24, 25, 26, 27, 28, 29]\n"
     ]
    }
   ],
   "source": [
    "print(history.epoch)"
   ]
  },
  {
   "cell_type": "code",
   "execution_count": 42,
   "metadata": {},
   "outputs": [
    {
     "data": {
      "text/plain": [
       "dict_keys(['loss', 'accuracy', 'val_loss', 'val_accuracy'])"
      ]
     },
     "execution_count": 42,
     "metadata": {},
     "output_type": "execute_result"
    }
   ],
   "source": [
    "history.history.keys()"
   ]
  },
  {
   "cell_type": "markdown",
   "metadata": {},
   "source": [
    "# Plot learning Curves "
   ]
  },
  {
   "cell_type": "code",
   "execution_count": 43,
   "metadata": {},
   "outputs": [
    {
     "data": {
      "image/png": "[encoded data removed]",
      "text/plain": [
       "<Figure size 576x360 with 1 Axes>"
      ]
     },
     "metadata": {
      "needs_background": "light"
     },
     "output_type": "display_data"
    }
   ],
   "source": [
    "import pandas as pd\n",
    "\n",
    "pd.DataFrame(history.history).plot(figsize=(8, 5))\n",
    "plt.grid(True)\n",
    "plt.gca().set_ylim(0, 1)\n",
    "plt.show()"
   ]
  },
  {
   "cell_type": "code",
   "execution_count": 44,
   "metadata": {},
   "outputs": [
    {
     "name": "stdout",
     "output_type": "stream",
     "text": [
      "313/313 [==============================] - 1s 3ms/step - loss: 0.3299 - accuracy: 0.8834\n"
     ]
    },
    {
     "data": {
      "text/plain": [
       "[0.3299218416213989, 0.883400022983551]"
      ]
     },
     "execution_count": 44,
     "metadata": {},
     "output_type": "execute_result"
    }
   ],
   "source": [
    "model.evaluate(X_test, y_test)"
   ]
  },
  {
   "cell_type": "code",
   "execution_count": 45,
   "metadata": {},
   "outputs": [
    {
     "data": {
      "text/plain": [
       "array([[0.000e+00, 0.000e+00, 1.000e-05, 1.000e-05, 0.000e+00, 2.230e-03,\n",
       "        1.000e-05, 1.575e-02, 3.900e-04, 9.816e-01],\n",
       "       [1.000e-05, 0.000e+00, 9.972e-01, 0.000e+00, 2.470e-03, 0.000e+00,\n",
       "        3.200e-04, 0.000e+00, 0.000e+00, 0.000e+00],\n",
       "       [0.000e+00, 1.000e+00, 0.000e+00, 0.000e+00, 0.000e+00, 0.000e+00,\n",
       "        0.000e+00, 0.000e+00, 0.000e+00, 0.000e+00]], dtype=float32)"
      ]
     },
     "execution_count": 45,
     "metadata": {},
     "output_type": "execute_result"
    }
   ],
   "source": [
    "X_new = X_test[:3]\n",
    "y_proba = model.predict(X_new)\n",
    "y_proba.round(5)"
   ]
  },
  {
   "cell_type": "code",
   "execution_count": 46,
   "metadata": {},
   "outputs": [
    {
     "name": "stdout",
     "output_type": "stream",
     "text": [
      "WARNING:tensorflow:From <ipython-input-46-81ace37e545f>:1: Sequential.predict_classes (from tensorflow.python.keras.engine.sequential) is deprecated and will be removed after 2021-01-01.\n",
      "Instructions for updating:\n",
      "Please use instead:* `np.argmax(model.predict(x), axis=-1)`,   if your model does multi-class classification   (e.g. if it uses a `softmax` last-layer activation).* `(model.predict(x) > 0.5).astype(\"int32\")`,   if your model does binary classification   (e.g. if it uses a `sigmoid` last-layer activation).\n"
     ]
    },
    {
     "data": {
      "text/plain": [
       "array([9, 2, 1], dtype=int64)"
      ]
     },
     "execution_count": 46,
     "metadata": {},
     "output_type": "execute_result"
    }
   ],
   "source": [
    "y_pred = model.predict_classes(X_new)\n",
    "y_pred"
   ]
  },
  {
   "cell_type": "code",
   "execution_count": 47,
   "metadata": {},
   "outputs": [
    {
     "data": {
      "text/plain": [
       "array(['Ankle boot', 'Pullover', 'Trouser'], dtype='<U11')"
      ]
     },
     "execution_count": 47,
     "metadata": {},
     "output_type": "execute_result"
    }
   ],
   "source": [
    "np.array(class_names)[y_pred]"
   ]
  },
  {
   "cell_type": "code",
   "execution_count": 48,
   "metadata": {},
   "outputs": [
    {
     "data": {
      "text/plain": [
       "array([9, 2, 1], dtype=uint8)"
      ]
     },
     "execution_count": 48,
     "metadata": {},
     "output_type": "execute_result"
    }
   ],
   "source": [
    "y_new = y_test[:3]\n",
    "y_new"
   ]
  },
  {
   "cell_type": "code",
   "execution_count": 49,
   "metadata": {},
   "outputs": [
    {
     "data": {
      "image/png": "[encoded data removed]",
      "text/plain": [
       "<Figure size 518.4x172.8 with 3 Axes>"
      ]
     },
     "metadata": {
      "needs_background": "light"
     },
     "output_type": "display_data"
    }
   ],
   "source": [
    "plt.figure(figsize=(7.2, 2.4))\n",
    "for index, image in enumerate(X_new):\n",
    "    plt.subplot(1, 3, index + 1)\n",
    "    plt.imshow(image, cmap=\"binary\", interpolation=\"nearest\")\n",
    "    plt.axis('off')\n",
    "    plt.title(class_names[y_test[index]], fontsize=12)\n",
    "plt.subplots_adjust(wspace=0.2, hspace=0.5)\n",
    "plt.show()"
   ]
  },
  {
   "cell_type": "markdown",
   "metadata": {},
   "source": [
    "# Exercise"
   ]
  },
  {
   "cell_type": "markdown",
   "metadata": {},
   "source": [
    "## 1) Plot Learning curves when using different optimizers"
   ]
  },
  {
   "cell_type": "markdown",
   "metadata": {},
   "source": [
    "https://keras.io/api/optimizers/"
   ]
  },
  {
   "cell_type": "markdown",
   "metadata": {},
   "source": [
    "### 1-optimizers:Adam"
   ]
  },
  {
   "cell_type": "code",
   "execution_count": 69,
   "metadata": {},
   "outputs": [],
   "source": [
    "model.compile(loss=\"sparse_categorical_crossentropy\",\n",
    "              optimizer=\"Adam\",\n",
    "              metrics=[\"accuracy\"])"
   ]
  },
  {
   "cell_type": "code",
   "execution_count": 70,
   "metadata": {},
   "outputs": [
    {
     "name": "stdout",
     "output_type": "stream",
     "text": [
      "Epoch 1/30\n",
      "1719/1719 [==============================] - 8s 4ms/step - loss: 0.2178 - accuracy: 0.9451 - val_loss: 1.4211 - val_accuracy: 0.8832\n",
      "Epoch 2/30\n",
      "1719/1719 [==============================] - 7s 4ms/step - loss: 0.2034 - accuracy: 0.9465 - val_loss: 1.1331 - val_accuracy: 0.8818\n",
      "Epoch 3/30\n",
      "1719/1719 [==============================] - 7s 4ms/step - loss: 0.1563 - accuracy: 0.9528 - val_loss: 1.1037 - val_accuracy: 0.8860\n",
      "Epoch 4/30\n",
      "1719/1719 [==============================] - 8s 4ms/step - loss: 0.1539 - accuracy: 0.9535 - val_loss: 1.1459 - val_accuracy: 0.8900\n",
      "Epoch 5/30\n",
      "1719/1719 [==============================] - 8s 4ms/step - loss: 0.1485 - accuracy: 0.9548 - val_loss: 1.1793 - val_accuracy: 0.8886\n",
      "Epoch 6/30\n",
      "1719/1719 [==============================] - 8s 4ms/step - loss: 0.1335 - accuracy: 0.9576 - val_loss: 1.1197 - val_accuracy: 0.8878\n",
      "Epoch 7/30\n",
      "1719/1719 [==============================] - 7s 4ms/step - loss: 0.1296 - accuracy: 0.9586 - val_loss: 1.0636 - val_accuracy: 0.8850\n",
      "Epoch 8/30\n",
      "1719/1719 [==============================] - 8s 5ms/step - loss: 0.1142 - accuracy: 0.9616 - val_loss: 1.0927 - val_accuracy: 0.8966\n",
      "Epoch 9/30\n",
      "1719/1719 [==============================] - 8s 4ms/step - loss: 0.1138 - accuracy: 0.9628 - val_loss: 1.2859 - val_accuracy: 0.8892\n",
      "Epoch 10/30\n",
      "1719/1719 [==============================] - 8s 5ms/step - loss: 0.1151 - accuracy: 0.9619 - val_loss: 1.0912 - val_accuracy: 0.8902\n",
      "Epoch 11/30\n",
      "1719/1719 [==============================] - 8s 4ms/step - loss: 0.1058 - accuracy: 0.9652 - val_loss: 1.1627 - val_accuracy: 0.8880\n",
      "Epoch 12/30\n",
      "1719/1719 [==============================] - 8s 5ms/step - loss: 0.1122 - accuracy: 0.9647 - val_loss: 1.2599 - val_accuracy: 0.8902\n",
      "Epoch 13/30\n",
      "1719/1719 [==============================] - 7s 4ms/step - loss: 0.1051 - accuracy: 0.9649 - val_loss: 1.1257 - val_accuracy: 0.8910\n",
      "Epoch 14/30\n",
      "1719/1719 [==============================] - 7s 4ms/step - loss: 0.0895 - accuracy: 0.9690 - val_loss: 1.3395 - val_accuracy: 0.8902\n",
      "Epoch 15/30\n",
      "1719/1719 [==============================] - 7s 4ms/step - loss: 0.0996 - accuracy: 0.9663 - val_loss: 1.2497 - val_accuracy: 0.8806\n",
      "Epoch 16/30\n",
      "1719/1719 [==============================] - 8s 4ms/step - loss: 0.0883 - accuracy: 0.9692 - val_loss: 1.1657 - val_accuracy: 0.8910\n",
      "Epoch 17/30\n",
      "1719/1719 [==============================] - 7s 4ms/step - loss: 0.0868 - accuracy: 0.9700 - val_loss: 1.1544 - val_accuracy: 0.8914\n",
      "Epoch 18/30\n",
      "1719/1719 [==============================] - 7s 4ms/step - loss: 0.0844 - accuracy: 0.9707 - val_loss: 1.2503 - val_accuracy: 0.8958\n",
      "Epoch 19/30\n",
      "1719/1719 [==============================] - 7s 4ms/step - loss: 0.0879 - accuracy: 0.9694 - val_loss: 1.1445 - val_accuracy: 0.8962\n",
      "Epoch 20/30\n",
      "1719/1719 [==============================] - 7s 4ms/step - loss: 0.0805 - accuracy: 0.9713 - val_loss: 1.0948 - val_accuracy: 0.8930\n",
      "Epoch 21/30\n",
      "1719/1719 [==============================] - 8s 4ms/step - loss: 0.0770 - accuracy: 0.9732 - val_loss: 1.0797 - val_accuracy: 0.8916\n",
      "Epoch 22/30\n",
      "1719/1719 [==============================] - 8s 4ms/step - loss: 0.0787 - accuracy: 0.9722 - val_loss: 1.0720 - val_accuracy: 0.8960\n",
      "Epoch 23/30\n",
      "1719/1719 [==============================] - 8s 4ms/step - loss: 0.0875 - accuracy: 0.9712 - val_loss: 1.2081 - val_accuracy: 0.8894\n",
      "Epoch 24/30\n",
      "1719/1719 [==============================] - 7s 4ms/step - loss: 0.0838 - accuracy: 0.9732 - val_loss: 1.1339 - val_accuracy: 0.8924\n",
      "Epoch 25/30\n",
      "1719/1719 [==============================] - 8s 4ms/step - loss: 0.0740 - accuracy: 0.9746 - val_loss: 1.1405 - val_accuracy: 0.8910\n",
      "Epoch 26/30\n",
      "1719/1719 [==============================] - 8s 4ms/step - loss: 0.0697 - accuracy: 0.9755 - val_loss: 1.1332 - val_accuracy: 0.8944\n",
      "Epoch 27/30\n",
      "1719/1719 [==============================] - 9s 5ms/step - loss: 0.0731 - accuracy: 0.9739 - val_loss: 1.1526 - val_accuracy: 0.8960\n",
      "Epoch 28/30\n",
      "1719/1719 [==============================] - 8s 5ms/step - loss: 0.0683 - accuracy: 0.9756 - val_loss: 1.2431 - val_accuracy: 0.8898\n",
      "Epoch 29/30\n",
      "1719/1719 [==============================] - 9s 5ms/step - loss: 0.0750 - accuracy: 0.9739 - val_loss: 1.1612 - val_accuracy: 0.8910\n",
      "Epoch 30/30\n",
      "1719/1719 [==============================] - 7s 4ms/step - loss: 0.0662 - accuracy: 0.9761 - val_loss: 1.1164 - val_accuracy: 0.8960\n"
     ]
    }
   ],
   "source": [
    "history1 = model.fit(X_train, y_train, batch_size=32, epochs=30,\n",
    "                    validation_data=(X_valid, y_valid))"
   ]
  },
  {
   "cell_type": "code",
   "execution_count": 71,
   "metadata": {
    "scrolled": true
   },
   "outputs": [
    {
     "data": {
      "image/png": "[encoded data removed]",
      "text/plain": [
       "<Figure size 576x360 with 1 Axes>"
      ]
     },
     "metadata": {
      "needs_background": "light"
     },
     "output_type": "display_data"
    }
   ],
   "source": [
    "pd.DataFrame(history1.history).plot(figsize=(8, 5))\n",
    "plt.grid(True)\n",
    "plt.gca().set_ylim(0, 1)\n",
    "plt.show()"
   ]
  },
  {
   "cell_type": "code",
   "execution_count": 72,
   "metadata": {},
   "outputs": [
    {
     "name": "stdout",
     "output_type": "stream",
     "text": [
      "313/313 [==============================] - 1s 2ms/step - loss: 1.2078 - accuracy: 0.8881\n"
     ]
    },
    {
     "data": {
      "text/plain": [
       "[1.2078131437301636, 0.8881000280380249]"
      ]
     },
     "execution_count": 72,
     "metadata": {},
     "output_type": "execute_result"
    }
   ],
   "source": [
    "model.evaluate(X_test, y_test)"
   ]
  },
  {
   "cell_type": "markdown",
   "metadata": {},
   "source": [
    "### 2-optimizers:Adamax"
   ]
  },
  {
   "cell_type": "code",
   "execution_count": 73,
   "metadata": {},
   "outputs": [],
   "source": [
    "model.compile(loss=\"sparse_categorical_crossentropy\",\n",
    "              optimizer=\"Adamax\",\n",
    "              metrics=[\"accuracy\"])"
   ]
  },
  {
   "cell_type": "code",
   "execution_count": 74,
   "metadata": {},
   "outputs": [
    {
     "name": "stdout",
     "output_type": "stream",
     "text": [
      "Epoch 1/30\n",
      "1719/1719 [==============================] - 9s 5ms/step - loss: 0.0276 - accuracy: 0.9900 - val_loss: 1.1858 - val_accuracy: 0.9018\n",
      "Epoch 2/30\n",
      "1719/1719 [==============================] - 8s 5ms/step - loss: 0.0225 - accuracy: 0.9924 - val_loss: 1.2187 - val_accuracy: 0.9016\n",
      "Epoch 3/30\n",
      "1719/1719 [==============================] - 8s 5ms/step - loss: 0.0209 - accuracy: 0.9927 - val_loss: 1.2678 - val_accuracy: 0.9028\n",
      "Epoch 4/30\n",
      "1719/1719 [==============================] - 7s 4ms/step - loss: 0.0197 - accuracy: 0.9930 - val_loss: 1.2903 - val_accuracy: 0.9010\n",
      "Epoch 5/30\n",
      "1719/1719 [==============================] - 7s 4ms/step - loss: 0.0190 - accuracy: 0.9935 - val_loss: 1.3136 - val_accuracy: 0.8994\n",
      "Epoch 6/30\n",
      "1719/1719 [==============================] - 7s 4ms/step - loss: 0.0182 - accuracy: 0.9936 - val_loss: 1.3028 - val_accuracy: 0.8994\n",
      "Epoch 7/30\n",
      "1719/1719 [==============================] - 7s 4ms/step - loss: 0.0171 - accuracy: 0.9943 - val_loss: 1.3207 - val_accuracy: 0.9030\n",
      "Epoch 8/30\n",
      "1719/1719 [==============================] - 7s 4ms/step - loss: 0.0167 - accuracy: 0.9944 - val_loss: 1.3343 - val_accuracy: 0.8996\n",
      "Epoch 9/30\n",
      "1719/1719 [==============================] - 8s 4ms/step - loss: 0.0158 - accuracy: 0.9947 - val_loss: 1.3432 - val_accuracy: 0.9004\n",
      "Epoch 10/30\n",
      "1719/1719 [==============================] - 7s 4ms/step - loss: 0.0152 - accuracy: 0.9947 - val_loss: 1.3509 - val_accuracy: 0.8998\n",
      "Epoch 11/30\n",
      "1719/1719 [==============================] - 7s 4ms/step - loss: 0.0148 - accuracy: 0.9950 - val_loss: 1.4044 - val_accuracy: 0.9026\n",
      "Epoch 12/30\n",
      "1719/1719 [==============================] - 7s 4ms/step - loss: 0.0143 - accuracy: 0.9951 - val_loss: 1.3952 - val_accuracy: 0.8990\n",
      "Epoch 13/30\n",
      "1719/1719 [==============================] - 7s 4ms/step - loss: 0.0141 - accuracy: 0.9951 - val_loss: 1.4269 - val_accuracy: 0.9016\n",
      "Epoch 14/30\n",
      "1719/1719 [==============================] - 7s 4ms/step - loss: 0.0134 - accuracy: 0.9956 - val_loss: 1.4474 - val_accuracy: 0.9014\n",
      "Epoch 15/30\n",
      "1719/1719 [==============================] - 8s 5ms/step - loss: 0.0129 - accuracy: 0.9958 - val_loss: 1.4558 - val_accuracy: 0.9008\n",
      "Epoch 16/30\n",
      "1719/1719 [==============================] - 9s 5ms/step - loss: 0.0127 - accuracy: 0.9959 - val_loss: 1.4616 - val_accuracy: 0.9000\n",
      "Epoch 17/30\n",
      "1719/1719 [==============================] - 8s 5ms/step - loss: 0.0122 - accuracy: 0.9961 - val_loss: 1.4931 - val_accuracy: 0.8990\n",
      "Epoch 18/30\n",
      "1719/1719 [==============================] - 9s 5ms/step - loss: 0.0118 - accuracy: 0.9960 - val_loss: 1.5010 - val_accuracy: 0.8982\n",
      "Epoch 19/30\n",
      "1719/1719 [==============================] - 8s 5ms/step - loss: 0.0113 - accuracy: 0.9966 - val_loss: 1.5061 - val_accuracy: 0.9012\n",
      "Epoch 20/30\n",
      "1719/1719 [==============================] - 8s 4ms/step - loss: 0.0111 - accuracy: 0.9968 - val_loss: 1.5204 - val_accuracy: 0.9014\n",
      "Epoch 21/30\n",
      "1719/1719 [==============================] - 8s 5ms/step - loss: 0.0107 - accuracy: 0.9968 - val_loss: 1.5291 - val_accuracy: 0.9006\n",
      "Epoch 22/30\n",
      "1719/1719 [==============================] - 8s 5ms/step - loss: 0.0104 - accuracy: 0.9966 - val_loss: 1.5174 - val_accuracy: 0.9000\n",
      "Epoch 23/30\n",
      "1719/1719 [==============================] - 8s 5ms/step - loss: 0.0100 - accuracy: 0.9970 - val_loss: 1.5623 - val_accuracy: 0.9002\n",
      "Epoch 24/30\n",
      "1719/1719 [==============================] - 8s 5ms/step - loss: 0.0096 - accuracy: 0.9972 - val_loss: 1.5646 - val_accuracy: 0.9028\n",
      "Epoch 25/30\n",
      "1719/1719 [==============================] - 8s 5ms/step - loss: 0.0095 - accuracy: 0.9970 - val_loss: 1.5816 - val_accuracy: 0.9008\n",
      "Epoch 26/30\n",
      "1719/1719 [==============================] - 8s 5ms/step - loss: 0.0092 - accuracy: 0.9972 - val_loss: 1.5886 - val_accuracy: 0.9006\n",
      "Epoch 27/30\n",
      "1719/1719 [==============================] - 8s 5ms/step - loss: 0.0087 - accuracy: 0.9974 - val_loss: 1.6062 - val_accuracy: 0.9006\n",
      "Epoch 28/30\n",
      "1719/1719 [==============================] - 8s 5ms/step - loss: 0.0085 - accuracy: 0.9973 - val_loss: 1.6061 - val_accuracy: 0.9006\n",
      "Epoch 29/30\n",
      "1719/1719 [==============================] - 8s 5ms/step - loss: 0.0085 - accuracy: 0.9974 - val_loss: 1.6241 - val_accuracy: 0.9002\n",
      "Epoch 30/30\n",
      "1719/1719 [==============================] - 8s 5ms/step - loss: 0.0081 - accuracy: 0.9974 - val_loss: 1.6263 - val_accuracy: 0.9018\n"
     ]
    }
   ],
   "source": [
    "history2 = model.fit(X_train, y_train, batch_size=32, epochs=30,\n",
    "                    validation_data=(X_valid, y_valid))"
   ]
  },
  {
   "cell_type": "code",
   "execution_count": 75,
   "metadata": {},
   "outputs": [
    {
     "data": {
      "image/png": "[encoded data removed]",
      "text/plain": [
       "<Figure size 576x360 with 1 Axes>"
      ]
     },
     "metadata": {
      "needs_background": "light"
     },
     "output_type": "display_data"
    }
   ],
   "source": [
    "pd.DataFrame(history2.history).plot(figsize=(8, 5))\n",
    "plt.grid(True)\n",
    "plt.gca().set_ylim(0, 1)\n",
    "plt.show()"
   ]
  },
  {
   "cell_type": "code",
   "execution_count": 76,
   "metadata": {},
   "outputs": [
    {
     "name": "stdout",
     "output_type": "stream",
     "text": [
      "313/313 [==============================] - 1s 3ms/step - loss: 1.7985 - accuracy: 0.8942\n"
     ]
    },
    {
     "data": {
      "text/plain": [
       "[1.798539400100708, 0.8942000269889832]"
      ]
     },
     "execution_count": 76,
     "metadata": {},
     "output_type": "execute_result"
    }
   ],
   "source": [
    "model.evaluate(X_test, y_test)"
   ]
  },
  {
   "cell_type": "markdown",
   "metadata": {},
   "source": [
    "### 3-optimizers:RMSprop"
   ]
  },
  {
   "cell_type": "code",
   "execution_count": 77,
   "metadata": {},
   "outputs": [],
   "source": [
    "model.compile(loss=\"sparse_categorical_crossentropy\",\n",
    "              optimizer=\"RMSprop\",\n",
    "              metrics=[\"accuracy\"])"
   ]
  },
  {
   "cell_type": "code",
   "execution_count": 78,
   "metadata": {},
   "outputs": [
    {
     "name": "stdout",
     "output_type": "stream",
     "text": [
      "Epoch 1/30\n",
      "1719/1719 [==============================] - 10s 6ms/step - loss: 0.0494 - accuracy: 0.9838 - val_loss: 1.6511 - val_accuracy: 0.8978\n",
      "Epoch 2/30\n",
      "1719/1719 [==============================] - 10s 6ms/step - loss: 0.0503 - accuracy: 0.9832 - val_loss: 1.7834 - val_accuracy: 0.8988\n",
      "Epoch 3/30\n",
      "1719/1719 [==============================] - 10s 6ms/step - loss: 0.0570 - accuracy: 0.9833 - val_loss: 1.7083 - val_accuracy: 0.8978\n",
      "Epoch 4/30\n",
      "1719/1719 [==============================] - 10s 6ms/step - loss: 0.0554 - accuracy: 0.9824 - val_loss: 1.9166 - val_accuracy: 0.8980\n",
      "Epoch 5/30\n",
      "1719/1719 [==============================] - 10s 6ms/step - loss: 0.0622 - accuracy: 0.9806 - val_loss: 1.9308 - val_accuracy: 0.8970\n",
      "Epoch 6/30\n",
      "1719/1719 [==============================] - 11s 6ms/step - loss: 0.0632 - accuracy: 0.9809 - val_loss: 1.9732 - val_accuracy: 0.8966\n",
      "Epoch 7/30\n",
      "1719/1719 [==============================] - 9s 5ms/step - loss: 0.0655 - accuracy: 0.9802 - val_loss: 2.0572 - val_accuracy: 0.8964\n",
      "Epoch 8/30\n",
      "1719/1719 [==============================] - 11s 6ms/step - loss: 0.0740 - accuracy: 0.9787 - val_loss: 2.0588 - val_accuracy: 0.8970\n",
      "Epoch 9/30\n",
      "1719/1719 [==============================] - 10s 6ms/step - loss: 0.0748 - accuracy: 0.9794 - val_loss: 2.1251 - val_accuracy: 0.8932\n",
      "Epoch 10/30\n",
      "1719/1719 [==============================] - 10s 6ms/step - loss: 0.0780 - accuracy: 0.9781 - val_loss: 1.8843 - val_accuracy: 0.9004\n",
      "Epoch 11/30\n",
      "1719/1719 [==============================] - 11s 6ms/step - loss: 0.0761 - accuracy: 0.9791 - val_loss: 2.1043 - val_accuracy: 0.8906\n",
      "Epoch 12/30\n",
      "1719/1719 [==============================] - 10s 6ms/step - loss: 0.0776 - accuracy: 0.9787 - val_loss: 2.3959 - val_accuracy: 0.8930\n",
      "Epoch 13/30\n",
      "1719/1719 [==============================] - 10s 6ms/step - loss: 0.0800 - accuracy: 0.9779 - val_loss: 2.4078 - val_accuracy: 0.8910\n",
      "Epoch 14/30\n",
      "1719/1719 [==============================] - 10s 6ms/step - loss: 0.0845 - accuracy: 0.9774 - val_loss: 2.2262 - val_accuracy: 0.8938\n",
      "Epoch 15/30\n",
      "1719/1719 [==============================] - 10s 6ms/step - loss: 0.0878 - accuracy: 0.9770 - val_loss: 2.2284 - val_accuracy: 0.8962\n",
      "Epoch 16/30\n",
      "1719/1719 [==============================] - 10s 6ms/step - loss: 0.0863 - accuracy: 0.9773 - val_loss: 2.2845 - val_accuracy: 0.8952\n",
      "Epoch 17/30\n",
      "1719/1719 [==============================] - 9s 5ms/step - loss: 0.0905 - accuracy: 0.9764 - val_loss: 2.2886 - val_accuracy: 0.8926\n",
      "Epoch 18/30\n",
      "1719/1719 [==============================] - 10s 6ms/step - loss: 0.0929 - accuracy: 0.9751 - val_loss: 2.4052 - val_accuracy: 0.8882\n",
      "Epoch 19/30\n",
      "1719/1719 [==============================] - 10s 6ms/step - loss: 0.0956 - accuracy: 0.9760 - val_loss: 2.4729 - val_accuracy: 0.8932\n",
      "Epoch 20/30\n",
      "1719/1719 [==============================] - 9s 5ms/step - loss: 0.0956 - accuracy: 0.9760 - val_loss: 2.3418 - val_accuracy: 0.8918\n",
      "Epoch 21/30\n",
      "1719/1719 [==============================] - 13s 7ms/step - loss: 0.1003 - accuracy: 0.9749 - val_loss: 2.3974 - val_accuracy: 0.8936\n",
      "Epoch 22/30\n",
      "1719/1719 [==============================] - 9s 5ms/step - loss: 0.0964 - accuracy: 0.9731 - val_loss: 2.3889 - val_accuracy: 0.8888\n",
      "Epoch 23/30\n",
      "1719/1719 [==============================] - 10s 6ms/step - loss: 0.1032 - accuracy: 0.9745 - val_loss: 2.4783 - val_accuracy: 0.8952\n",
      "Epoch 24/30\n",
      "1719/1719 [==============================] - 10s 6ms/step - loss: 0.1094 - accuracy: 0.9736 - val_loss: 2.6759 - val_accuracy: 0.8930\n",
      "Epoch 25/30\n",
      "1719/1719 [==============================] - 12s 7ms/step - loss: 0.1084 - accuracy: 0.9739 - val_loss: 2.5882 - val_accuracy: 0.8862\n",
      "Epoch 26/30\n",
      "1719/1719 [==============================] - 10s 6ms/step - loss: 0.1049 - accuracy: 0.9734 - val_loss: 2.5879 - val_accuracy: 0.8918\n",
      "Epoch 27/30\n",
      "1719/1719 [==============================] - 10s 6ms/step - loss: 0.1169 - accuracy: 0.9723 - val_loss: 2.5250 - val_accuracy: 0.8904\n",
      "Epoch 28/30\n",
      "1719/1719 [==============================] - 10s 6ms/step - loss: 0.1147 - accuracy: 0.9721 - val_loss: 2.9605 - val_accuracy: 0.8910\n",
      "Epoch 29/30\n",
      "1719/1719 [==============================] - 10s 6ms/step - loss: 0.1204 - accuracy: 0.9722 - val_loss: 2.6958 - val_accuracy: 0.8864\n",
      "Epoch 30/30\n",
      "1719/1719 [==============================] - 9s 5ms/step - loss: 0.1105 - accuracy: 0.9718 - val_loss: 2.6791 - val_accuracy: 0.8860\n"
     ]
    }
   ],
   "source": [
    "history3 = model.fit(X_train, y_train, batch_size=32, epochs=30,\n",
    "                    validation_data=(X_valid, y_valid))"
   ]
  },
  {
   "cell_type": "code",
   "execution_count": 79,
   "metadata": {},
   "outputs": [
    {
     "data": {
      "image/png": "[encoded data removed]",
      "text/plain": [
       "<Figure size 576x360 with 1 Axes>"
      ]
     },
     "metadata": {
      "needs_background": "light"
     },
     "output_type": "display_data"
    }
   ],
   "source": [
    "pd.DataFrame(history3.history).plot(figsize=(8, 5))\n",
    "plt.grid(True)\n",
    "plt.gca().set_ylim(0, 1)\n",
    "plt.show()"
   ]
  },
  {
   "cell_type": "code",
   "execution_count": 80,
   "metadata": {},
   "outputs": [
    {
     "name": "stdout",
     "output_type": "stream",
     "text": [
      "313/313 [==============================] - 1s 2ms/step - loss: 2.7464 - accuracy: 0.8713\n"
     ]
    },
    {
     "data": {
      "text/plain": [
       "[2.746389627456665, 0.8712999820709229]"
      ]
     },
     "execution_count": 80,
     "metadata": {},
     "output_type": "execute_result"
    }
   ],
   "source": [
    "model.evaluate(X_test, y_test)"
   ]
  },
  {
   "cell_type": "code",
   "execution_count": 81,
   "metadata": {},
   "outputs": [
    {
     "data": {
      "image/png": "[encoded data removed]",
      "text/plain": [
       "<Figure size 576x360 with 1 Axes>"
      ]
     },
     "metadata": {
      "needs_background": "light"
     },
     "output_type": "display_data"
    },
    {
     "data": {
      "image/png": "[encoded data removed]",
      "text/plain": [
       "<Figure size 576x360 with 1 Axes>"
      ]
     },
     "metadata": {
      "needs_background": "light"
     },
     "output_type": "display_data"
    },
    {
     "data": {
      "image/png": "[encoded data removed]",
      "text/plain": [
       "<Figure size 576x360 with 1 Axes>"
      ]
     },
     "metadata": {
      "needs_background": "light"
     },
     "output_type": "display_data"
    }
   ],
   "source": [
    "pd.DataFrame(history1.history).plot(figsize=(8, 5))\n",
    "pd.DataFrame(history2.history).plot(figsize=(8, 5))\n",
    "pd.DataFrame(history3.history).plot(figsize=(8, 5))\n",
    "plt.grid(True)\n",
    "plt.gca().set_ylim(0, 1)\n",
    "plt.show()"
   ]
  },
  {
   "cell_type": "markdown",
   "metadata": {},
   "source": [
    "## 2) Plot Learning curves when using different batch size"
   ]
  },
  {
   "cell_type": "code",
   "execution_count": 82,
   "metadata": {},
   "outputs": [],
   "source": [
    "model.compile(loss=\"sparse_categorical_crossentropy\",\n",
    "              optimizer=\"sgd\",\n",
    "              metrics=[\"accuracy\"])"
   ]
  },
  {
   "cell_type": "markdown",
   "metadata": {},
   "source": [
    "### 1-batch_size=30"
   ]
  },
  {
   "cell_type": "code",
   "execution_count": 83,
   "metadata": {},
   "outputs": [
    {
     "name": "stdout",
     "output_type": "stream",
     "text": [
      "Epoch 1/30\n",
      "1834/1834 [==============================] - 7s 4ms/step - loss: 84.1237 - accuracy: 0.5212 - val_loss: 1.3214 - val_accuracy: 0.5944\n",
      "Epoch 2/30\n",
      "1834/1834 [==============================] - 6s 3ms/step - loss: 0.9025 - accuracy: 0.6609 - val_loss: 0.8099 - val_accuracy: 0.7274\n",
      "Epoch 3/30\n",
      "1834/1834 [==============================] - 7s 4ms/step - loss: 0.6942 - accuracy: 0.7267 - val_loss: 0.9880 - val_accuracy: 0.7338\n",
      "Epoch 4/30\n",
      "1834/1834 [==============================] - 7s 4ms/step - loss: 0.6208 - accuracy: 0.7507 - val_loss: 0.7786 - val_accuracy: 0.7298\n",
      "Epoch 5/30\n",
      "1834/1834 [==============================] - 7s 4ms/step - loss: 0.5731 - accuracy: 0.7683 - val_loss: 0.8254 - val_accuracy: 0.7204\n",
      "Epoch 6/30\n",
      "1834/1834 [==============================] - 7s 4ms/step - loss: 0.5315 - accuracy: 0.7854 - val_loss: 0.6789 - val_accuracy: 0.7760\n",
      "Epoch 7/30\n",
      "1834/1834 [==============================] - 6s 3ms/step - loss: 0.5043 - accuracy: 0.7977 - val_loss: 0.6566 - val_accuracy: 0.7908\n",
      "Epoch 8/30\n",
      "1834/1834 [==============================] - 7s 4ms/step - loss: 0.4885 - accuracy: 0.8118 - val_loss: 0.5899 - val_accuracy: 0.8088\n",
      "Epoch 9/30\n",
      "1834/1834 [==============================] - 7s 4ms/step - loss: 0.4649 - accuracy: 0.8230 - val_loss: 0.6396 - val_accuracy: 0.8242\n",
      "Epoch 10/30\n",
      "1834/1834 [==============================] - 6s 3ms/step - loss: 0.4451 - accuracy: 0.8348 - val_loss: 0.5584 - val_accuracy: 0.8410\n",
      "Epoch 11/30\n",
      "1834/1834 [==============================] - 7s 4ms/step - loss: 0.4319 - accuracy: 0.8414 - val_loss: 0.6476 - val_accuracy: 0.8114\n",
      "Epoch 12/30\n",
      "1834/1834 [==============================] - 6s 3ms/step - loss: 0.4133 - accuracy: 0.8494 - val_loss: 0.5604 - val_accuracy: 0.8300\n",
      "Epoch 13/30\n",
      "1834/1834 [==============================] - 6s 3ms/step - loss: 0.4013 - accuracy: 0.8527 - val_loss: 0.5401 - val_accuracy: 0.8532\n",
      "Epoch 14/30\n",
      "1834/1834 [==============================] - 7s 4ms/step - loss: 0.3925 - accuracy: 0.8585 - val_loss: 0.5123 - val_accuracy: 0.8496\n",
      "Epoch 15/30\n",
      "1834/1834 [==============================] - 6s 3ms/step - loss: 0.3805 - accuracy: 0.8620 - val_loss: 0.5177 - val_accuracy: 0.8280\n",
      "Epoch 16/30\n",
      "1834/1834 [==============================] - 7s 4ms/step - loss: 0.3745 - accuracy: 0.8634 - val_loss: 0.7584 - val_accuracy: 0.8234\n",
      "Epoch 17/30\n",
      "1834/1834 [==============================] - 6s 3ms/step - loss: 0.3625 - accuracy: 0.8685 - val_loss: 0.4978 - val_accuracy: 0.8536\n",
      "Epoch 18/30\n",
      "1834/1834 [==============================] - 7s 4ms/step - loss: 0.3564 - accuracy: 0.8700 - val_loss: 0.4923 - val_accuracy: 0.8628\n",
      "Epoch 19/30\n",
      "1834/1834 [==============================] - 7s 4ms/step - loss: 0.3501 - accuracy: 0.8742 - val_loss: 0.4768 - val_accuracy: 0.8606\n",
      "Epoch 20/30\n",
      "1834/1834 [==============================] - 7s 4ms/step - loss: 0.3416 - accuracy: 0.8750 - val_loss: 0.5912 - val_accuracy: 0.8080\n",
      "Epoch 21/30\n",
      "1834/1834 [==============================] - 7s 4ms/step - loss: 0.3342 - accuracy: 0.8783 - val_loss: 0.4749 - val_accuracy: 0.8554\n",
      "Epoch 22/30\n",
      "1834/1834 [==============================] - 7s 4ms/step - loss: 0.3271 - accuracy: 0.8797 - val_loss: 0.4609 - val_accuracy: 0.8676\n",
      "Epoch 23/30\n",
      "1834/1834 [==============================] - 7s 4ms/step - loss: 0.3226 - accuracy: 0.8828 - val_loss: 0.4867 - val_accuracy: 0.8594\n",
      "Epoch 24/30\n",
      "1834/1834 [==============================] - 6s 4ms/step - loss: 0.3153 - accuracy: 0.8833 - val_loss: 0.7303 - val_accuracy: 0.8042\n",
      "Epoch 25/30\n",
      "1834/1834 [==============================] - 7s 4ms/step - loss: 0.3137 - accuracy: 0.8852 - val_loss: 0.4377 - val_accuracy: 0.8736\n",
      "Epoch 26/30\n",
      "1834/1834 [==============================] - 6s 3ms/step - loss: 0.3087 - accuracy: 0.8873 - val_loss: 0.4273 - val_accuracy: 0.8794\n",
      "Epoch 27/30\n",
      "1834/1834 [==============================] - 6s 3ms/step - loss: 0.2994 - accuracy: 0.8903 - val_loss: 0.4458 - val_accuracy: 0.8676\n",
      "Epoch 28/30\n",
      "1834/1834 [==============================] - 7s 4ms/step - loss: 0.2966 - accuracy: 0.8910 - val_loss: 0.4626 - val_accuracy: 0.8582\n",
      "Epoch 29/30\n",
      "1834/1834 [==============================] - 7s 4ms/step - loss: 0.2956 - accuracy: 0.8921 - val_loss: 0.6166 - val_accuracy: 0.8262\n",
      "Epoch 30/30\n",
      "1834/1834 [==============================] - 8s 4ms/step - loss: 0.2915 - accuracy: 0.8915 - val_loss: 0.5930 - val_accuracy: 0.8310\n"
     ]
    }
   ],
   "source": [
    "history4 = model.fit(X_train, y_train, batch_size=30, epochs=30,\n",
    "                    validation_data=(X_valid, y_valid))"
   ]
  },
  {
   "cell_type": "code",
   "execution_count": 84,
   "metadata": {},
   "outputs": [
    {
     "data": {
      "image/png": "[encoded data removed]",
      "text/plain": [
       "<Figure size 576x360 with 1 Axes>"
      ]
     },
     "metadata": {
      "needs_background": "light"
     },
     "output_type": "display_data"
    }
   ],
   "source": [
    "pd.DataFrame(history4.history).plot(figsize=(8, 5))\n",
    "plt.grid(True)\n",
    "plt.gca().set_ylim(0, 1)\n",
    "plt.show()"
   ]
  },
  {
   "cell_type": "code",
   "execution_count": 85,
   "metadata": {},
   "outputs": [
    {
     "name": "stdout",
     "output_type": "stream",
     "text": [
      "313/313 [==============================] - 1s 2ms/step - loss: 0.6640 - accuracy: 0.8151\n"
     ]
    },
    {
     "data": {
      "text/plain": [
       "[0.6640461683273315, 0.8151000142097473]"
      ]
     },
     "execution_count": 85,
     "metadata": {},
     "output_type": "execute_result"
    }
   ],
   "source": [
    "model.evaluate(X_test, y_test)"
   ]
  },
  {
   "cell_type": "markdown",
   "metadata": {},
   "source": [
    "### 2-batch_size=22"
   ]
  },
  {
   "cell_type": "code",
   "execution_count": 86,
   "metadata": {},
   "outputs": [
    {
     "name": "stdout",
     "output_type": "stream",
     "text": [
      "Epoch 1/30\n",
      "2500/2500 [==============================] - 12s 5ms/step - loss: 0.3070 - accuracy: 0.8884 - val_loss: 0.5011 - val_accuracy: 0.8534\n",
      "Epoch 2/30\n",
      "2500/2500 [==============================] - 12s 5ms/step - loss: 0.2995 - accuracy: 0.8903 - val_loss: 0.4409 - val_accuracy: 0.8670\n",
      "Epoch 3/30\n",
      "2500/2500 [==============================] - 10s 4ms/step - loss: 0.2939 - accuracy: 0.8910 - val_loss: 0.4344 - val_accuracy: 0.8796\n",
      "Epoch 4/30\n",
      "2500/2500 [==============================] - 9s 4ms/step - loss: 0.2877 - accuracy: 0.8950 - val_loss: 0.4195 - val_accuracy: 0.8746\n",
      "Epoch 5/30\n",
      "2500/2500 [==============================] - 9s 3ms/step - loss: 0.2851 - accuracy: 0.8947 - val_loss: 0.4617 - val_accuracy: 0.8738\n",
      "Epoch 6/30\n",
      "2500/2500 [==============================] - 9s 4ms/step - loss: 0.2862 - accuracy: 0.8959 - val_loss: 0.4603 - val_accuracy: 0.8752\n",
      "Epoch 7/30\n",
      "2500/2500 [==============================] - 9s 3ms/step - loss: 0.2796 - accuracy: 0.8973 - val_loss: 0.4238 - val_accuracy: 0.8720\n",
      "Epoch 8/30\n",
      "2500/2500 [==============================] - 9s 4ms/step - loss: 0.2719 - accuracy: 0.9000 - val_loss: 0.4197 - val_accuracy: 0.8796\n",
      "Epoch 9/30\n",
      "2500/2500 [==============================] - 9s 4ms/step - loss: 0.2673 - accuracy: 0.9007 - val_loss: 0.4436 - val_accuracy: 0.8778\n",
      "Epoch 10/30\n",
      "2500/2500 [==============================] - 9s 4ms/step - loss: 0.2648 - accuracy: 0.9027 - val_loss: 0.4165 - val_accuracy: 0.8816\n",
      "Epoch 11/30\n",
      "2500/2500 [==============================] - 9s 4ms/step - loss: 0.2633 - accuracy: 0.9029 - val_loss: 0.4168 - val_accuracy: 0.8854\n",
      "Epoch 12/30\n",
      "2500/2500 [==============================] - 8s 3ms/step - loss: 0.2587 - accuracy: 0.9047 - val_loss: 0.4716 - val_accuracy: 0.8638\n",
      "Epoch 13/30\n",
      "2500/2500 [==============================] - 9s 4ms/step - loss: 0.2553 - accuracy: 0.9047 - val_loss: 0.4351 - val_accuracy: 0.8778\n",
      "Epoch 14/30\n",
      "2500/2500 [==============================] - 9s 4ms/step - loss: 0.2516 - accuracy: 0.9067 - val_loss: 0.4257 - val_accuracy: 0.8826\n",
      "Epoch 15/30\n",
      "2500/2500 [==============================] - 9s 4ms/step - loss: 0.2505 - accuracy: 0.9083 - val_loss: 0.4320 - val_accuracy: 0.8828\n",
      "Epoch 16/30\n",
      "2500/2500 [==============================] - 9s 4ms/step - loss: 0.2460 - accuracy: 0.9088 - val_loss: 0.4520 - val_accuracy: 0.8820\n",
      "Epoch 17/30\n",
      "2500/2500 [==============================] - 9s 4ms/step - loss: 0.2444 - accuracy: 0.9110 - val_loss: 0.4976 - val_accuracy: 0.8680\n",
      "Epoch 18/30\n",
      "2500/2500 [==============================] - 9s 4ms/step - loss: 0.2405 - accuracy: 0.9110 - val_loss: 0.4428 - val_accuracy: 0.8826\n",
      "Epoch 19/30\n",
      "2500/2500 [==============================] - 10s 4ms/step - loss: 0.2366 - accuracy: 0.9143 - val_loss: 0.4685 - val_accuracy: 0.8720\n",
      "Epoch 20/30\n",
      "2500/2500 [==============================] - 8s 3ms/step - loss: 0.2333 - accuracy: 0.9132 - val_loss: 0.4765 - val_accuracy: 0.8630\n",
      "Epoch 21/30\n",
      "2500/2500 [==============================] - 8s 3ms/step - loss: 0.2302 - accuracy: 0.9152 - val_loss: 0.4213 - val_accuracy: 0.8864\n",
      "Epoch 22/30\n",
      "2500/2500 [==============================] - 9s 4ms/step - loss: 0.2303 - accuracy: 0.9146 - val_loss: 0.4631 - val_accuracy: 0.8678\n",
      "Epoch 23/30\n",
      "2500/2500 [==============================] - 9s 4ms/step - loss: 0.2266 - accuracy: 0.9164 - val_loss: 0.4348 - val_accuracy: 0.8824\n",
      "Epoch 24/30\n",
      "2500/2500 [==============================] - 9s 3ms/step - loss: 0.2232 - accuracy: 0.9185 - val_loss: 0.4327 - val_accuracy: 0.8902\n",
      "Epoch 25/30\n",
      "2500/2500 [==============================] - 8s 3ms/step - loss: 0.2218 - accuracy: 0.9191 - val_loss: 0.4378 - val_accuracy: 0.8890\n",
      "Epoch 26/30\n",
      "2500/2500 [==============================] - 9s 4ms/step - loss: 0.2188 - accuracy: 0.9194 - val_loss: 0.4204 - val_accuracy: 0.8902\n",
      "Epoch 27/30\n",
      "2500/2500 [==============================] - 8s 3ms/step - loss: 0.2176 - accuracy: 0.9197 - val_loss: 0.4482 - val_accuracy: 0.8878\n",
      "Epoch 28/30\n",
      "2500/2500 [==============================] - 9s 3ms/step - loss: 0.2163 - accuracy: 0.9203 - val_loss: 0.4250 - val_accuracy: 0.8888\n",
      "Epoch 29/30\n",
      "2500/2500 [==============================] - 8s 3ms/step - loss: 0.2137 - accuracy: 0.9211 - val_loss: 0.4711 - val_accuracy: 0.8720\n",
      "Epoch 30/30\n",
      "2500/2500 [==============================] - 9s 3ms/step - loss: 0.2132 - accuracy: 0.9205 - val_loss: 0.4423 - val_accuracy: 0.8886\n"
     ]
    }
   ],
   "source": [
    "history5 = model.fit(X_train, y_train, batch_size=22, epochs=30,\n",
    "                    validation_data=(X_valid, y_valid))"
   ]
  },
  {
   "cell_type": "code",
   "execution_count": 87,
   "metadata": {},
   "outputs": [
    {
     "data": {
      "image/png": "[encoded data removed]",
      "text/plain": [
       "<Figure size 576x360 with 1 Axes>"
      ]
     },
     "metadata": {
      "needs_background": "light"
     },
     "output_type": "display_data"
    }
   ],
   "source": [
    "pd.DataFrame(history5.history).plot(figsize=(8, 5))\n",
    "plt.grid(True)\n",
    "plt.gca().set_ylim(0, 1)\n",
    "plt.show()"
   ]
  },
  {
   "cell_type": "code",
   "execution_count": 88,
   "metadata": {},
   "outputs": [
    {
     "name": "stdout",
     "output_type": "stream",
     "text": [
      "313/313 [==============================] - 1s 2ms/step - loss: 0.5050 - accuracy: 0.8733\n"
     ]
    },
    {
     "data": {
      "text/plain": [
       "[0.5049806833267212, 0.8733000159263611]"
      ]
     },
     "execution_count": 88,
     "metadata": {},
     "output_type": "execute_result"
    }
   ],
   "source": [
    "model.evaluate(X_test, y_test)"
   ]
  },
  {
   "cell_type": "markdown",
   "metadata": {},
   "source": [
    "### 3-batch_size=13"
   ]
  },
  {
   "cell_type": "code",
   "execution_count": 89,
   "metadata": {},
   "outputs": [
    {
     "name": "stdout",
     "output_type": "stream",
     "text": [
      "Epoch 1/30\n",
      "4231/4231 [==============================] - 11s 3ms/step - loss: 0.2434 - accuracy: 0.9117 - val_loss: 0.4404 - val_accuracy: 0.8848\n",
      "Epoch 2/30\n",
      "4231/4231 [==============================] - 10s 2ms/step - loss: 0.2381 - accuracy: 0.9145 - val_loss: 0.4583 - val_accuracy: 0.8842\n",
      "Epoch 3/30\n",
      "4231/4231 [==============================] - 10s 2ms/step - loss: 0.2297 - accuracy: 0.9159 - val_loss: 0.4660 - val_accuracy: 0.8774\n",
      "Epoch 4/30\n",
      "4231/4231 [==============================] - 10s 2ms/step - loss: 0.2251 - accuracy: 0.9195 - val_loss: 0.4940 - val_accuracy: 0.8790\n",
      "Epoch 5/30\n",
      "4231/4231 [==============================] - 11s 3ms/step - loss: 0.2228 - accuracy: 0.9187 - val_loss: 0.4732 - val_accuracy: 0.8834\n",
      "Epoch 6/30\n",
      "4231/4231 [==============================] - 11s 3ms/step - loss: 0.2185 - accuracy: 0.9218 - val_loss: 0.4522 - val_accuracy: 0.8912\n",
      "Epoch 7/30\n",
      "4231/4231 [==============================] - 12s 3ms/step - loss: 0.2138 - accuracy: 0.9237 - val_loss: 0.5366 - val_accuracy: 0.8810\n",
      "Epoch 8/30\n",
      "4231/4231 [==============================] - 11s 3ms/step - loss: 0.2107 - accuracy: 0.9238 - val_loss: 0.4593 - val_accuracy: 0.8884\n",
      "Epoch 9/30\n",
      "4231/4231 [==============================] - 10s 2ms/step - loss: 0.2066 - accuracy: 0.9252 - val_loss: 0.5481 - val_accuracy: 0.8760\n",
      "Epoch 10/30\n",
      "4231/4231 [==============================] - 11s 2ms/step - loss: 0.2038 - accuracy: 0.9265 - val_loss: 0.4822 - val_accuracy: 0.8892\n",
      "Epoch 11/30\n",
      "4231/4231 [==============================] - 10s 2ms/step - loss: 0.2017 - accuracy: 0.9280 - val_loss: 0.5059 - val_accuracy: 0.8718\n",
      "Epoch 12/30\n",
      "4231/4231 [==============================] - 11s 3ms/step - loss: 0.1967 - accuracy: 0.9290 - val_loss: 0.4746 - val_accuracy: 0.8896\n",
      "Epoch 13/30\n",
      "4231/4231 [==============================] - 8s 2ms/step - loss: 0.1966 - accuracy: 0.9290 - val_loss: 0.4766 - val_accuracy: 0.8818\n",
      "Epoch 14/30\n",
      "4231/4231 [==============================] - 8s 2ms/step - loss: 0.1963 - accuracy: 0.9295 - val_loss: 0.4779 - val_accuracy: 0.8912\n",
      "Epoch 15/30\n",
      "4231/4231 [==============================] - 8s 2ms/step - loss: 0.1920 - accuracy: 0.9306 - val_loss: 0.4765 - val_accuracy: 0.8912\n",
      "Epoch 16/30\n",
      "4231/4231 [==============================] - 8s 2ms/step - loss: 0.1895 - accuracy: 0.9317 - val_loss: 0.4923 - val_accuracy: 0.8854\n",
      "Epoch 17/30\n",
      "4231/4231 [==============================] - 8s 2ms/step - loss: 0.1849 - accuracy: 0.9339 - val_loss: 0.5113 - val_accuracy: 0.8874\n",
      "Epoch 18/30\n",
      "4231/4231 [==============================] - 9s 2ms/step - loss: 0.1827 - accuracy: 0.9333 - val_loss: 0.4920 - val_accuracy: 0.8880\n",
      "Epoch 19/30\n",
      "4231/4231 [==============================] - 9s 2ms/step - loss: 0.1811 - accuracy: 0.9351 - val_loss: 0.4901 - val_accuracy: 0.8922\n",
      "Epoch 20/30\n",
      "4231/4231 [==============================] - 8s 2ms/step - loss: 0.1788 - accuracy: 0.9360 - val_loss: 0.5099 - val_accuracy: 0.8840\n",
      "Epoch 21/30\n",
      "4231/4231 [==============================] - 9s 2ms/step - loss: 0.1770 - accuracy: 0.9356 - val_loss: 0.4940 - val_accuracy: 0.8960\n",
      "Epoch 22/30\n",
      "4231/4231 [==============================] - 8s 2ms/step - loss: 0.1730 - accuracy: 0.9372 - val_loss: 0.5046 - val_accuracy: 0.8922\n",
      "Epoch 23/30\n",
      "4231/4231 [==============================] - 9s 2ms/step - loss: 0.1706 - accuracy: 0.9385 - val_loss: 0.4982 - val_accuracy: 0.8958\n",
      "Epoch 24/30\n",
      "4231/4231 [==============================] - 9s 2ms/step - loss: 0.1712 - accuracy: 0.9381 - val_loss: 0.5060 - val_accuracy: 0.8864\n",
      "Epoch 25/30\n",
      "4231/4231 [==============================] - 9s 2ms/step - loss: 0.1682 - accuracy: 0.9389 - val_loss: 0.5258 - val_accuracy: 0.8858\n",
      "Epoch 26/30\n",
      "4231/4231 [==============================] - 9s 2ms/step - loss: 0.1675 - accuracy: 0.9394 - val_loss: 0.5046 - val_accuracy: 0.8894\n",
      "Epoch 27/30\n",
      "4231/4231 [==============================] - 9s 2ms/step - loss: 0.1718 - accuracy: 0.9385 - val_loss: 0.5220 - val_accuracy: 0.8906\n",
      "Epoch 28/30\n",
      "4231/4231 [==============================] - 9s 2ms/step - loss: 0.1658 - accuracy: 0.9405 - val_loss: 0.5118 - val_accuracy: 0.8874\n",
      "Epoch 29/30\n",
      "4231/4231 [==============================] - 9s 2ms/step - loss: 0.1638 - accuracy: 0.9409 - val_loss: 0.4886 - val_accuracy: 0.8926\n",
      "Epoch 30/30\n",
      "4231/4231 [==============================] - 9s 2ms/step - loss: 0.1618 - accuracy: 0.9407 - val_loss: 0.5484 - val_accuracy: 0.8808\n"
     ]
    }
   ],
   "source": [
    "history6 = model.fit(X_train, y_train, batch_size=13, epochs=30,\n",
    "                    validation_data=(X_valid, y_valid))"
   ]
  },
  {
   "cell_type": "code",
   "execution_count": 90,
   "metadata": {},
   "outputs": [
    {
     "data": {
      "image/png": "[encoded data removed]",
      "text/plain": [
       "<Figure size 576x360 with 1 Axes>"
      ]
     },
     "metadata": {
      "needs_background": "light"
     },
     "output_type": "display_data"
    }
   ],
   "source": [
    "pd.DataFrame(history6.history).plot(figsize=(8, 5))\n",
    "plt.grid(True)\n",
    "plt.gca().set_ylim(0, 1)\n",
    "plt.show()"
   ]
  },
  {
   "cell_type": "code",
   "execution_count": 91,
   "metadata": {},
   "outputs": [
    {
     "name": "stdout",
     "output_type": "stream",
     "text": [
      "313/313 [==============================] - 0s 1ms/step - loss: 0.6143 - accuracy: 0.8688\n"
     ]
    },
    {
     "data": {
      "text/plain": [
       "[0.6142756938934326, 0.8687999844551086]"
      ]
     },
     "execution_count": 91,
     "metadata": {},
     "output_type": "execute_result"
    }
   ],
   "source": [
    "model.evaluate(X_test, y_test)"
   ]
  },
  {
   "cell_type": "code",
   "execution_count": 92,
   "metadata": {},
   "outputs": [
    {
     "data": {
      "image/png": "[encoded data removed]",
      "text/plain": [
       "<Figure size 576x360 with 1 Axes>"
      ]
     },
     "metadata": {
      "needs_background": "light"
     },
     "output_type": "display_data"
    },
    {
     "data": {
      "image/png": "[encoded data removed]",
      "text/plain": [
       "<Figure size 576x360 with 1 Axes>"
      ]
     },
     "metadata": {
      "needs_background": "light"
     },
     "output_type": "display_data"
    },
    {
     "data": {
      "image/png": "[encoded data removed]",
      "text/plain": [
       "<Figure size 576x360 with 1 Axes>"
      ]
     },
     "metadata": {
      "needs_background": "light"
     },
     "output_type": "display_data"
    }
   ],
   "source": [
    "pd.DataFrame(history4.history).plot(figsize=(8, 5))\n",
    "pd.DataFrame(history5.history).plot(figsize=(8, 5))\n",
    "pd.DataFrame(history6.history).plot(figsize=(8, 5))\n",
    "plt.grid(True)\n",
    "plt.gca().set_ylim(0, 1)\n",
    "plt.show()"
   ]
  },
  {
   "cell_type": "markdown",
   "metadata": {},
   "source": [
    "## 3) Plot Learning curves when using different number of epochs"
   ]
  },
  {
   "cell_type": "code",
   "execution_count": 93,
   "metadata": {},
   "outputs": [],
   "source": [
    "model.compile(loss=\"sparse_categorical_crossentropy\",\n",
    "              optimizer=\"sgd\",\n",
    "              metrics=[\"accuracy\"])"
   ]
  },
  {
   "cell_type": "markdown",
   "metadata": {},
   "source": [
    "### 1-epochs=10"
   ]
  },
  {
   "cell_type": "code",
   "execution_count": 94,
   "metadata": {},
   "outputs": [
    {
     "name": "stdout",
     "output_type": "stream",
     "text": [
      "Epoch 1/10\n",
      "1719/1719 [==============================] - 4s 2ms/step - loss: 0.1415 - accuracy: 0.9473 - val_loss: 0.4965 - val_accuracy: 0.8940\n",
      "Epoch 2/10\n",
      "1719/1719 [==============================] - 4s 2ms/step - loss: 0.1392 - accuracy: 0.9495 - val_loss: 0.4967 - val_accuracy: 0.8968\n",
      "Epoch 3/10\n",
      "1719/1719 [==============================] - 4s 3ms/step - loss: 0.1379 - accuracy: 0.9496 - val_loss: 0.5134 - val_accuracy: 0.8966\n",
      "Epoch 4/10\n",
      "1719/1719 [==============================] - 4s 2ms/step - loss: 0.1384 - accuracy: 0.9497 - val_loss: 0.5208 - val_accuracy: 0.8908\n",
      "Epoch 5/10\n",
      "1719/1719 [==============================] - 4s 2ms/step - loss: 0.1371 - accuracy: 0.9500 - val_loss: 0.5166 - val_accuracy: 0.8974\n",
      "Epoch 6/10\n",
      "1719/1719 [==============================] - 4s 2ms/step - loss: 0.1356 - accuracy: 0.9512 - val_loss: 0.5229 - val_accuracy: 0.8938\n",
      "Epoch 7/10\n",
      "1719/1719 [==============================] - 4s 2ms/step - loss: 0.1356 - accuracy: 0.9498 - val_loss: 0.5371 - val_accuracy: 0.8904\n",
      "Epoch 8/10\n",
      "1719/1719 [==============================] - 4s 2ms/step - loss: 0.1354 - accuracy: 0.9505 - val_loss: 0.5191 - val_accuracy: 0.8944\n",
      "Epoch 9/10\n",
      "1719/1719 [==============================] - 4s 2ms/step - loss: 0.1352 - accuracy: 0.9503 - val_loss: 0.5212 - val_accuracy: 0.8938\n",
      "Epoch 10/10\n",
      "1719/1719 [==============================] - 4s 2ms/step - loss: 0.1337 - accuracy: 0.9507 - val_loss: 0.5341 - val_accuracy: 0.8922\n"
     ]
    }
   ],
   "source": [
    "history7 = model.fit(X_train, y_train, batch_size=32, epochs=10,\n",
    "                    validation_data=(X_valid, y_valid))"
   ]
  },
  {
   "cell_type": "markdown",
   "metadata": {},
   "source": [
    "### 2-epochs=50"
   ]
  },
  {
   "cell_type": "code",
   "execution_count": 95,
   "metadata": {},
   "outputs": [
    {
     "name": "stdout",
     "output_type": "stream",
     "text": [
      "Epoch 1/10\n",
      "1100/1100 [==============================] - 4s 3ms/step - loss: 0.1298 - accuracy: 0.9523 - val_loss: 0.5173 - val_accuracy: 0.8956\n",
      "Epoch 2/10\n",
      "1100/1100 [==============================] - 3s 3ms/step - loss: 0.1294 - accuracy: 0.9526 - val_loss: 0.5360 - val_accuracy: 0.8924\n",
      "Epoch 3/10\n",
      "1100/1100 [==============================] - 3s 3ms/step - loss: 0.1287 - accuracy: 0.9531 - val_loss: 0.5206 - val_accuracy: 0.8972\n",
      "Epoch 4/10\n",
      "1100/1100 [==============================] - 4s 3ms/step - loss: 0.1284 - accuracy: 0.9529 - val_loss: 0.5297 - val_accuracy: 0.8968\n",
      "Epoch 5/10\n",
      "1100/1100 [==============================] - 4s 3ms/step - loss: 0.1277 - accuracy: 0.9542 - val_loss: 0.5305 - val_accuracy: 0.8976\n",
      "Epoch 6/10\n",
      "1100/1100 [==============================] - 4s 3ms/step - loss: 0.1272 - accuracy: 0.9529 - val_loss: 0.5450 - val_accuracy: 0.8916\n",
      "Epoch 7/10\n",
      "1100/1100 [==============================] - 3s 3ms/step - loss: 0.1270 - accuracy: 0.9539 - val_loss: 0.5299 - val_accuracy: 0.8968\n",
      "Epoch 8/10\n",
      "1100/1100 [==============================] - 3s 3ms/step - loss: 0.1268 - accuracy: 0.9535 - val_loss: 0.5326 - val_accuracy: 0.8954\n",
      "Epoch 9/10\n",
      "1100/1100 [==============================] - 3s 3ms/step - loss: 0.1262 - accuracy: 0.9538 - val_loss: 0.5281 - val_accuracy: 0.8962\n",
      "Epoch 10/10\n",
      "1100/1100 [==============================] - 4s 3ms/step - loss: 0.1264 - accuracy: 0.9541 - val_loss: 0.5373 - val_accuracy: 0.8964\n"
     ]
    }
   ],
   "source": [
    "history8 = model.fit(X_train, y_train, batch_size=50, epochs=10,\n",
    "                    validation_data=(X_valid, y_valid))"
   ]
  },
  {
   "cell_type": "code",
   "execution_count": 96,
   "metadata": {},
   "outputs": [
    {
     "data": {
      "image/png": "[encoded data removed]",
      "text/plain": [
       "<Figure size 576x360 with 1 Axes>"
      ]
     },
     "metadata": {
      "needs_background": "light"
     },
     "output_type": "display_data"
    },
    {
     "data": {
      "image/png": "[encoded data removed]",
      "text/plain": [
       "<Figure size 576x360 with 1 Axes>"
      ]
     },
     "metadata": {
      "needs_background": "light"
     },
     "output_type": "display_data"
    }
   ],
   "source": [
    "pd.DataFrame(history7.history).plot(figsize=(8, 5))\n",
    "pd.DataFrame(history8.history).plot(figsize=(8, 5))\n",
    "plt.grid(True)\n",
    "plt.gca().set_ylim(0, 1)\n",
    "plt.show()"
   ]
  },
  {
   "cell_type": "markdown",
   "metadata": {},
   "source": [
    "## 4) repeat with more layers"
   ]
  },
  {
   "cell_type": "code",
   "execution_count": 97,
   "metadata": {},
   "outputs": [],
   "source": [
    "model = keras.models.Sequential()\n",
    "model.add(keras.layers.Flatten(input_shape=[28, 28]))\n",
    "model.add(keras.layers.Dense(200, activation=\"relu\"))\n",
    "model.add((keras.layers.Dropout(0.5)))\n",
    "model.add(keras.layers.Dense(150, activation=\"relu\"))\n",
    "model.add((keras.layers.Dropout(0.5)))\n",
    "model.add(keras.layers.Dense(80, activation=\"relu\"))\n",
    "model.add(keras.layers.Dense(50, activation=\"relu\"))\n",
    "model.add(keras.layers.BatchNormalization())\n",
    "model.add(keras.layers.Dense(10, activation=\"softmax\"))"
   ]
  },
  {
   "cell_type": "code",
   "execution_count": 98,
   "metadata": {},
   "outputs": [
    {
     "data": {
      "text/plain": [
       "[<tensorflow.python.keras.layers.core.Flatten at 0x14f19599208>,\n",
       " <tensorflow.python.keras.layers.core.Dense at 0x14f19599688>,\n",
       " <tensorflow.python.keras.layers.core.Dropout at 0x14f1957aa88>,\n",
       " <tensorflow.python.keras.layers.core.Dense at 0x14f19564548>,\n",
       " <tensorflow.python.keras.layers.core.Dropout at 0x14f195bd5c8>,\n",
       " <tensorflow.python.keras.layers.core.Dense at 0x14f195b0248>,\n",
       " <tensorflow.python.keras.layers.core.Dense at 0x14f195d1c48>,\n",
       " <tensorflow.python.keras.layers.normalization_v2.BatchNormalization at 0x14f195d7a88>,\n",
       " <tensorflow.python.keras.layers.core.Dense at 0x14f195df788>]"
      ]
     },
     "execution_count": 98,
     "metadata": {},
     "output_type": "execute_result"
    }
   ],
   "source": [
    "model.layers"
   ]
  },
  {
   "cell_type": "code",
   "execution_count": 99,
   "metadata": {},
   "outputs": [],
   "source": [
    "model.compile(loss=\"sparse_categorical_crossentropy\",\n",
    "              optimizer=\"sgd\",\n",
    "              metrics=[\"accuracy\"])"
   ]
  },
  {
   "cell_type": "code",
   "execution_count": 100,
   "metadata": {},
   "outputs": [
    {
     "name": "stdout",
     "output_type": "stream",
     "text": [
      "Epoch 1/30\n",
      "1719/1719 [==============================] - 5s 3ms/step - loss: 1.0651 - accuracy: 0.6195 - val_loss: 0.5677 - val_accuracy: 0.8026\n",
      "Epoch 2/30\n",
      "1719/1719 [==============================] - 5s 3ms/step - loss: 0.7049 - accuracy: 0.7476 - val_loss: 0.4802 - val_accuracy: 0.8318\n",
      "Epoch 3/30\n",
      "1719/1719 [==============================] - 5s 3ms/step - loss: 0.6226 - accuracy: 0.7793 - val_loss: 0.4435 - val_accuracy: 0.8432\n",
      "Epoch 4/30\n",
      "1719/1719 [==============================] - 5s 3ms/step - loss: 0.5763 - accuracy: 0.7956 - val_loss: 0.4185 - val_accuracy: 0.8530\n",
      "Epoch 5/30\n",
      "1719/1719 [==============================] - 5s 3ms/step - loss: 0.5439 - accuracy: 0.8081 - val_loss: 0.4011 - val_accuracy: 0.8566\n",
      "Epoch 6/30\n",
      "1719/1719 [==============================] - 5s 3ms/step - loss: 0.5224 - accuracy: 0.8178 - val_loss: 0.3867 - val_accuracy: 0.8576\n",
      "Epoch 7/30\n",
      "1719/1719 [==============================] - 5s 3ms/step - loss: 0.4996 - accuracy: 0.8242 - val_loss: 0.3714 - val_accuracy: 0.8672\n",
      "Epoch 8/30\n",
      "1719/1719 [==============================] - 5s 3ms/step - loss: 0.4893 - accuracy: 0.8278 - val_loss: 0.3688 - val_accuracy: 0.8686\n",
      "Epoch 9/30\n",
      "1719/1719 [==============================] - 5s 3ms/step - loss: 0.4731 - accuracy: 0.8341 - val_loss: 0.3598 - val_accuracy: 0.8684\n",
      "Epoch 10/30\n",
      "1719/1719 [==============================] - 5s 3ms/step - loss: 0.4623 - accuracy: 0.8388 - val_loss: 0.3690 - val_accuracy: 0.8670\n",
      "Epoch 11/30\n",
      "1719/1719 [==============================] - 5s 3ms/step - loss: 0.4528 - accuracy: 0.8394 - val_loss: 0.3645 - val_accuracy: 0.8646\n",
      "Epoch 12/30\n",
      "1719/1719 [==============================] - 5s 3ms/step - loss: 0.4434 - accuracy: 0.8461 - val_loss: 0.3506 - val_accuracy: 0.8732\n",
      "Epoch 13/30\n",
      "1719/1719 [==============================] - 5s 3ms/step - loss: 0.4365 - accuracy: 0.8470 - val_loss: 0.3433 - val_accuracy: 0.8742\n",
      "Epoch 14/30\n",
      "1719/1719 [==============================] - 5s 3ms/step - loss: 0.4279 - accuracy: 0.8485 - val_loss: 0.3420 - val_accuracy: 0.8762\n",
      "Epoch 15/30\n",
      "1719/1719 [==============================] - 5s 3ms/step - loss: 0.4231 - accuracy: 0.8500 - val_loss: 0.3594 - val_accuracy: 0.8700\n",
      "Epoch 16/30\n",
      "1719/1719 [==============================] - 5s 3ms/step - loss: 0.4170 - accuracy: 0.8527 - val_loss: 0.3423 - val_accuracy: 0.8746\n",
      "Epoch 17/30\n",
      "1719/1719 [==============================] - 5s 3ms/step - loss: 0.4123 - accuracy: 0.8545 - val_loss: 0.3360 - val_accuracy: 0.8756\n",
      "Epoch 18/30\n",
      "1719/1719 [==============================] - 5s 3ms/step - loss: 0.4097 - accuracy: 0.8548 - val_loss: 0.3381 - val_accuracy: 0.8750\n",
      "Epoch 19/30\n",
      "1719/1719 [==============================] - 5s 3ms/step - loss: 0.4066 - accuracy: 0.8557 - val_loss: 0.3278 - val_accuracy: 0.8834\n",
      "Epoch 20/30\n",
      "1719/1719 [==============================] - 5s 3ms/step - loss: 0.3985 - accuracy: 0.8605 - val_loss: 0.3250 - val_accuracy: 0.8792\n",
      "Epoch 21/30\n",
      "1719/1719 [==============================] - 5s 3ms/step - loss: 0.3990 - accuracy: 0.8564 - val_loss: 0.3240 - val_accuracy: 0.8818\n",
      "Epoch 22/30\n",
      "1719/1719 [==============================] - 5s 3ms/step - loss: 0.3890 - accuracy: 0.8623 - val_loss: 0.3334 - val_accuracy: 0.8796\n",
      "Epoch 23/30\n",
      "1719/1719 [==============================] - 5s 3ms/step - loss: 0.3888 - accuracy: 0.8628 - val_loss: 0.3204 - val_accuracy: 0.8852\n",
      "Epoch 24/30\n",
      "1719/1719 [==============================] - 5s 3ms/step - loss: 0.3892 - accuracy: 0.8618 - val_loss: 0.3386 - val_accuracy: 0.8782\n",
      "Epoch 25/30\n",
      "1719/1719 [==============================] - 5s 3ms/step - loss: 0.3800 - accuracy: 0.8640 - val_loss: 0.3214 - val_accuracy: 0.8826\n",
      "Epoch 26/30\n",
      "1719/1719 [==============================] - 5s 3ms/step - loss: 0.3770 - accuracy: 0.8654 - val_loss: 0.3175 - val_accuracy: 0.8822\n",
      "Epoch 27/30\n",
      "1719/1719 [==============================] - 5s 3ms/step - loss: 0.3744 - accuracy: 0.8672 - val_loss: 0.3286 - val_accuracy: 0.8828\n",
      "Epoch 28/30\n",
      "1719/1719 [==============================] - 5s 3ms/step - loss: 0.3717 - accuracy: 0.8669 - val_loss: 0.3286 - val_accuracy: 0.8796\n",
      "Epoch 29/30\n",
      "1719/1719 [==============================] - 5s 3ms/step - loss: 0.3703 - accuracy: 0.8678 - val_loss: 0.3137 - val_accuracy: 0.8880\n",
      "Epoch 30/30\n",
      "1719/1719 [==============================] - 5s 3ms/step - loss: 0.3702 - accuracy: 0.8669 - val_loss: 0.3201 - val_accuracy: 0.8844\n"
     ]
    }
   ],
   "source": [
    "history10 = model.fit(X_train, y_train, batch_size=32, epochs=30,\n",
    "                    validation_data=(X_valid, y_valid))"
   ]
  },
  {
   "cell_type": "code",
   "execution_count": 101,
   "metadata": {},
   "outputs": [
    {
     "data": {
      "image/png": "[encoded data removed]",
      "text/plain": [
       "<Figure size 576x360 with 1 Axes>"
      ]
     },
     "metadata": {
      "needs_background": "light"
     },
     "output_type": "display_data"
    }
   ],
   "source": [
    "pd.DataFrame(history10.history).plot(figsize=(8, 5))\n",
    "plt.grid(True)\n",
    "plt.gca().set_ylim(0, 1)\n",
    "plt.show()"
   ]
  },
  {
   "cell_type": "code",
   "execution_count": 102,
   "metadata": {},
   "outputs": [
    {
     "name": "stdout",
     "output_type": "stream",
     "text": [
      "313/313 [==============================] - 1s 2ms/step - loss: 0.3627 - accuracy: 0.8720\n"
     ]
    },
    {
     "data": {
      "text/plain": [
       "[0.362688809633255, 0.871999979019165]"
      ]
     },
     "execution_count": 102,
     "metadata": {},
     "output_type": "execute_result"
    }
   ],
   "source": [
    "model.evaluate(X_test, y_test)"
   ]
  },
  {
   "cell_type": "markdown",
   "metadata": {},
   "source": [
    "## 5) apply on different datasets"
   ]
  },
  {
   "cell_type": "code",
   "execution_count": 139,
   "metadata": {},
   "outputs": [],
   "source": [
    "data =keras.datasets.mnist\n",
    "(X_train_full, y_train_full), (X_test, y_test) = data.load_data()"
   ]
  },
  {
   "cell_type": "code",
   "execution_count": 140,
   "metadata": {},
   "outputs": [
    {
     "data": {
      "text/plain": [
       "(60000, 28, 28)"
      ]
     },
     "execution_count": 140,
     "metadata": {},
     "output_type": "execute_result"
    }
   ],
   "source": [
    "X_train_full.shape"
   ]
  },
  {
   "cell_type": "code",
   "execution_count": 147,
   "metadata": {},
   "outputs": [
    {
     "data": {
      "text/plain": [
       "array([5, 0, 4, ..., 5, 6, 8], dtype=uint8)"
      ]
     },
     "execution_count": 147,
     "metadata": {},
     "output_type": "execute_result"
    }
   ],
   "source": [
    "y_train_full"
   ]
  },
  {
   "cell_type": "code",
   "execution_count": 148,
   "metadata": {},
   "outputs": [],
   "source": [
    "X_valid, X_train = X_train_full[:10000] / 255., X_train_full[10000:] / 255.\n",
    "y_valid, y_train = y_train_full[:10000], y_train_full[10000:]\n",
    "X_test = X_test / 255."
   ]
  },
  {
   "cell_type": "code",
   "execution_count": 149,
   "metadata": {},
   "outputs": [
    {
     "data": {
      "text/plain": [
       "array([3, 8, 7, ..., 5, 6, 8], dtype=uint8)"
      ]
     },
     "execution_count": 149,
     "metadata": {},
     "output_type": "execute_result"
    }
   ],
   "source": [
    "y_train"
   ]
  },
  {
   "cell_type": "code",
   "execution_count": 150,
   "metadata": {},
   "outputs": [],
   "source": [
    "class_names = [\"0\", \"1\", \"2\", \"3\", \"4\",\"5\", \"6\", \"7\", \"8\", \"9\"]"
   ]
  },
  {
   "cell_type": "code",
   "execution_count": 151,
   "metadata": {},
   "outputs": [
    {
     "data": {
      "text/plain": [
       "'3'"
      ]
     },
     "execution_count": 151,
     "metadata": {},
     "output_type": "execute_result"
    }
   ],
   "source": [
    "class_names[y_train[0]]"
   ]
  },
  {
   "cell_type": "code",
   "execution_count": 152,
   "metadata": {},
   "outputs": [
    {
     "data": {
      "image/png": "[encoded data removed]",
      "text/plain": [
       "<Figure size 864x345.6 with 40 Axes>"
      ]
     },
     "metadata": {
      "needs_background": "light"
     },
     "output_type": "display_data"
    }
   ],
   "source": [
    "n_rows = 4\n",
    "n_cols = 10\n",
    "plt.figure(figsize=(n_cols * 1.2, n_rows * 1.2))\n",
    "for row in range(n_rows):\n",
    "    for col in range(n_cols):\n",
    "        index = n_cols * row + col\n",
    "        plt.subplot(n_rows, n_cols, index + 1)\n",
    "        plt.imshow(X_train[index], cmap=\"binary\", interpolation=\"nearest\")\n",
    "        plt.axis('off')\n",
    "        plt.title(class_names[y_train[index]], fontsize=5)\n",
    "plt.subplots_adjust(wspace=0.1, hspace=0.5)\n",
    "plt.show()"
   ]
  },
  {
   "cell_type": "code",
   "execution_count": 154,
   "metadata": {},
   "outputs": [],
   "source": [
    "model = keras.models.Sequential()\n",
    "model.add(keras.layers.Flatten(input_shape=[28, 28]))\n",
    "model.add(keras.layers.Dense(300, activation=\"relu\"))\n",
    "model.add((keras.layers.Dropout(0.5)))\n",
    "model.add(keras.layers.Dense(200, activation=\"relu\"))\n",
    "model.add(keras.layers.Dense(100, activation=\"relu\"))\n",
    "model.add(keras.layers.BatchNormalization())\n",
    "model.add(keras.layers.Dense(10, activation=\"softmax\"))"
   ]
  },
  {
   "cell_type": "code",
   "execution_count": 155,
   "metadata": {},
   "outputs": [],
   "source": [
    "keras.backend.clear_session()\n",
    "np.random.seed(42)"
   ]
  },
  {
   "cell_type": "code",
   "execution_count": 156,
   "metadata": {},
   "outputs": [
    {
     "data": {
      "text/plain": [
       "[<tensorflow.python.keras.layers.core.Flatten at 0x14f7ee5fe48>,\n",
       " <tensorflow.python.keras.layers.core.Dense at 0x14f7ee5f708>,\n",
       " <tensorflow.python.keras.layers.core.Dropout at 0x14f68295488>,\n",
       " <tensorflow.python.keras.layers.core.Dense at 0x14f7f543588>,\n",
       " <tensorflow.python.keras.layers.core.Dense at 0x14f1a48afc8>,\n",
       " <tensorflow.python.keras.layers.normalization_v2.BatchNormalization at 0x14f7f698f88>,\n",
       " <tensorflow.python.keras.layers.core.Dense at 0x14f1a472e48>]"
      ]
     },
     "execution_count": 156,
     "metadata": {},
     "output_type": "execute_result"
    }
   ],
   "source": [
    "model.layers"
   ]
  },
  {
   "cell_type": "code",
   "execution_count": 157,
   "metadata": {},
   "outputs": [
    {
     "name": "stdout",
     "output_type": "stream",
     "text": [
      "Model: \"sequential_2\"\n",
      "_________________________________________________________________\n",
      "Layer (type)                 Output Shape              Param #   \n",
      "=================================================================\n",
      "flatten_2 (Flatten)          (None, 784)               0         \n",
      "_________________________________________________________________\n",
      "dense_9 (Dense)              (None, 300)               235500    \n",
      "_________________________________________________________________\n",
      "dropout_3 (Dropout)          (None, 300)               0         \n",
      "_________________________________________________________________\n",
      "dense_10 (Dense)             (None, 200)               60200     \n",
      "_________________________________________________________________\n",
      "dense_11 (Dense)             (None, 100)               20100     \n",
      "_________________________________________________________________\n",
      "batch_normalization_2 (Batch (None, 100)               400       \n",
      "_________________________________________________________________\n",
      "dense_12 (Dense)             (None, 10)                1010      \n",
      "=================================================================\n",
      "Total params: 317,210\n",
      "Trainable params: 317,010\n",
      "Non-trainable params: 200\n",
      "_________________________________________________________________\n"
     ]
    }
   ],
   "source": [
    "model.summary()"
   ]
  },
  {
   "cell_type": "code",
   "execution_count": 158,
   "metadata": {},
   "outputs": [
    {
     "data": {
      "text/plain": [
       "'dense_9'"
      ]
     },
     "execution_count": 158,
     "metadata": {},
     "output_type": "execute_result"
    }
   ],
   "source": [
    "hidden1 = model.layers[1]\n",
    "hidden1.name"
   ]
  },
  {
   "cell_type": "code",
   "execution_count": 159,
   "metadata": {},
   "outputs": [
    {
     "data": {
      "text/plain": [
       "True"
      ]
     },
     "execution_count": 159,
     "metadata": {},
     "output_type": "execute_result"
    }
   ],
   "source": [
    "model.get_layer(hidden1.name) is hidden1"
   ]
  },
  {
   "cell_type": "code",
   "execution_count": 160,
   "metadata": {},
   "outputs": [],
   "source": [
    "weights, biases = hidden1.get_weights()"
   ]
  },
  {
   "cell_type": "code",
   "execution_count": 161,
   "metadata": {},
   "outputs": [
    {
     "data": {
      "text/plain": [
       "array([[ 0.07355821,  0.01027025,  0.07001269, ..., -0.04928518,\n",
       "         0.00758363, -0.06631483],\n",
       "       [ 0.02642493,  0.06089847,  0.02675845, ..., -0.01536675,\n",
       "        -0.06329255, -0.03330378],\n",
       "       [-0.02804844, -0.03647433, -0.04766374, ..., -0.00523619,\n",
       "         0.05388296, -0.02242162],\n",
       "       ...,\n",
       "       [ 0.04442905,  0.05741191,  0.06098646, ..., -0.00891416,\n",
       "        -0.06324758,  0.06009617],\n",
       "       [ 0.04658934, -0.01569564, -0.01342521, ...,  0.03451609,\n",
       "        -0.00233717, -0.04113607],\n",
       "       [-0.067095  , -0.04149436, -0.00237116, ...,  0.021579  ,\n",
       "         0.00246099, -0.03885181]], dtype=float32)"
      ]
     },
     "execution_count": 161,
     "metadata": {},
     "output_type": "execute_result"
    }
   ],
   "source": [
    "weights"
   ]
  },
  {
   "cell_type": "code",
   "execution_count": 162,
   "metadata": {},
   "outputs": [
    {
     "data": {
      "text/plain": [
       "(784, 300)"
      ]
     },
     "execution_count": 162,
     "metadata": {},
     "output_type": "execute_result"
    }
   ],
   "source": [
    "weights.shape"
   ]
  },
  {
   "cell_type": "code",
   "execution_count": 163,
   "metadata": {},
   "outputs": [
    {
     "data": {
      "text/plain": [
       "array([0., 0., 0., 0., 0., 0., 0., 0., 0., 0., 0., 0., 0., 0., 0., 0., 0.,\n",
       "       0., 0., 0., 0., 0., 0., 0., 0., 0., 0., 0., 0., 0., 0., 0., 0., 0.,\n",
       "       0., 0., 0., 0., 0., 0., 0., 0., 0., 0., 0., 0., 0., 0., 0., 0., 0.,\n",
       "       0., 0., 0., 0., 0., 0., 0., 0., 0., 0., 0., 0., 0., 0., 0., 0., 0.,\n",
       "       0., 0., 0., 0., 0., 0., 0., 0., 0., 0., 0., 0., 0., 0., 0., 0., 0.,\n",
       "       0., 0., 0., 0., 0., 0., 0., 0., 0., 0., 0., 0., 0., 0., 0., 0., 0.,\n",
       "       0., 0., 0., 0., 0., 0., 0., 0., 0., 0., 0., 0., 0., 0., 0., 0., 0.,\n",
       "       0., 0., 0., 0., 0., 0., 0., 0., 0., 0., 0., 0., 0., 0., 0., 0., 0.,\n",
       "       0., 0., 0., 0., 0., 0., 0., 0., 0., 0., 0., 0., 0., 0., 0., 0., 0.,\n",
       "       0., 0., 0., 0., 0., 0., 0., 0., 0., 0., 0., 0., 0., 0., 0., 0., 0.,\n",
       "       0., 0., 0., 0., 0., 0., 0., 0., 0., 0., 0., 0., 0., 0., 0., 0., 0.,\n",
       "       0., 0., 0., 0., 0., 0., 0., 0., 0., 0., 0., 0., 0., 0., 0., 0., 0.,\n",
       "       0., 0., 0., 0., 0., 0., 0., 0., 0., 0., 0., 0., 0., 0., 0., 0., 0.,\n",
       "       0., 0., 0., 0., 0., 0., 0., 0., 0., 0., 0., 0., 0., 0., 0., 0., 0.,\n",
       "       0., 0., 0., 0., 0., 0., 0., 0., 0., 0., 0., 0., 0., 0., 0., 0., 0.,\n",
       "       0., 0., 0., 0., 0., 0., 0., 0., 0., 0., 0., 0., 0., 0., 0., 0., 0.,\n",
       "       0., 0., 0., 0., 0., 0., 0., 0., 0., 0., 0., 0., 0., 0., 0., 0., 0.,\n",
       "       0., 0., 0., 0., 0., 0., 0., 0., 0., 0., 0.], dtype=float32)"
      ]
     },
     "execution_count": 163,
     "metadata": {},
     "output_type": "execute_result"
    }
   ],
   "source": [
    "biases"
   ]
  },
  {
   "cell_type": "code",
   "execution_count": 164,
   "metadata": {},
   "outputs": [
    {
     "data": {
      "text/plain": [
       "(300,)"
      ]
     },
     "execution_count": 164,
     "metadata": {},
     "output_type": "execute_result"
    }
   ],
   "source": [
    "biases.shape"
   ]
  },
  {
   "cell_type": "markdown",
   "metadata": {},
   "source": [
    "## Optimizer=sgd"
   ]
  },
  {
   "cell_type": "code",
   "execution_count": 165,
   "metadata": {},
   "outputs": [],
   "source": [
    "model.compile(loss=\"sparse_categorical_crossentropy\",\n",
    "              optimizer=\"sgd\",\n",
    "              metrics=[\"accuracy\"])"
   ]
  },
  {
   "cell_type": "code",
   "execution_count": 166,
   "metadata": {},
   "outputs": [
    {
     "name": "stdout",
     "output_type": "stream",
     "text": [
      "Epoch 1/30\n",
      "1563/1563 [==============================] - 7s 4ms/step - loss: 0.5921 - accuracy: 0.8149 - val_loss: 0.2250 - val_accuracy: 0.9352\n",
      "Epoch 2/30\n",
      "1563/1563 [==============================] - 7s 4ms/step - loss: 0.3025 - accuracy: 0.9087 - val_loss: 0.1670 - val_accuracy: 0.9490\n",
      "Epoch 3/30\n",
      "1563/1563 [==============================] - 7s 5ms/step - loss: 0.2408 - accuracy: 0.9263 - val_loss: 0.1364 - val_accuracy: 0.9593\n",
      "Epoch 4/30\n",
      "1563/1563 [==============================] - 6s 4ms/step - loss: 0.2040 - accuracy: 0.9381 - val_loss: 0.1250 - val_accuracy: 0.9613\n",
      "Epoch 5/30\n",
      "1563/1563 [==============================] - 6s 4ms/step - loss: 0.1824 - accuracy: 0.9454 - val_loss: 0.1108 - val_accuracy: 0.9660\n",
      "Epoch 6/30\n",
      "1563/1563 [==============================] - 7s 4ms/step - loss: 0.1657 - accuracy: 0.9480 - val_loss: 0.1038 - val_accuracy: 0.9684\n",
      "Epoch 7/30\n",
      "1563/1563 [==============================] - 7s 5ms/step - loss: 0.1528 - accuracy: 0.9530 - val_loss: 0.0973 - val_accuracy: 0.9698\n",
      "Epoch 8/30\n",
      "1563/1563 [==============================] - 7s 4ms/step - loss: 0.1445 - accuracy: 0.9550 - val_loss: 0.0950 - val_accuracy: 0.9715\n",
      "Epoch 9/30\n",
      "1563/1563 [==============================] - 6s 4ms/step - loss: 0.1350 - accuracy: 0.9578 - val_loss: 0.0944 - val_accuracy: 0.9727\n",
      "Epoch 10/30\n",
      "1563/1563 [==============================] - 7s 4ms/step - loss: 0.1267 - accuracy: 0.9615 - val_loss: 0.0892 - val_accuracy: 0.9742\n",
      "Epoch 11/30\n",
      "1563/1563 [==============================] - 7s 5ms/step - loss: 0.1162 - accuracy: 0.9641 - val_loss: 0.0870 - val_accuracy: 0.9740\n",
      "Epoch 12/30\n",
      "1563/1563 [==============================] - 6s 4ms/step - loss: 0.1118 - accuracy: 0.9642 - val_loss: 0.0853 - val_accuracy: 0.9754\n",
      "Epoch 13/30\n",
      "1563/1563 [==============================] - 7s 4ms/step - loss: 0.1078 - accuracy: 0.9661 - val_loss: 0.0814 - val_accuracy: 0.9760\n",
      "Epoch 14/30\n",
      "1563/1563 [==============================] - 7s 4ms/step - loss: 0.1035 - accuracy: 0.9675 - val_loss: 0.0781 - val_accuracy: 0.9773\n",
      "Epoch 15/30\n",
      "1563/1563 [==============================] - 7s 4ms/step - loss: 0.0983 - accuracy: 0.9690 - val_loss: 0.0788 - val_accuracy: 0.9776\n",
      "Epoch 16/30\n",
      "1563/1563 [==============================] - 6s 4ms/step - loss: 0.0926 - accuracy: 0.9708 - val_loss: 0.0785 - val_accuracy: 0.9770\n",
      "Epoch 17/30\n",
      "1563/1563 [==============================] - 7s 4ms/step - loss: 0.0906 - accuracy: 0.9712 - val_loss: 0.0761 - val_accuracy: 0.9787\n",
      "Epoch 18/30\n",
      "1563/1563 [==============================] - 7s 4ms/step - loss: 0.0851 - accuracy: 0.9723 - val_loss: 0.0746 - val_accuracy: 0.9785\n",
      "Epoch 19/30\n",
      "1563/1563 [==============================] - 7s 4ms/step - loss: 0.0839 - accuracy: 0.9727 - val_loss: 0.0772 - val_accuracy: 0.9782\n",
      "Epoch 20/30\n",
      "1563/1563 [==============================] - 7s 4ms/step - loss: 0.0789 - accuracy: 0.9744 - val_loss: 0.0746 - val_accuracy: 0.9792\n",
      "Epoch 21/30\n",
      "1563/1563 [==============================] - 7s 4ms/step - loss: 0.0782 - accuracy: 0.9747 - val_loss: 0.0723 - val_accuracy: 0.9788\n",
      "Epoch 22/30\n",
      "1563/1563 [==============================] - 7s 4ms/step - loss: 0.0784 - accuracy: 0.9745 - val_loss: 0.0725 - val_accuracy: 0.9796\n",
      "Epoch 23/30\n",
      "1563/1563 [==============================] - 7s 4ms/step - loss: 0.0744 - accuracy: 0.9753 - val_loss: 0.0781 - val_accuracy: 0.9784\n",
      "Epoch 24/30\n",
      "1563/1563 [==============================] - 7s 4ms/step - loss: 0.0709 - accuracy: 0.9775 - val_loss: 0.0729 - val_accuracy: 0.9796\n",
      "Epoch 25/30\n",
      "1563/1563 [==============================] - 6s 4ms/step - loss: 0.0712 - accuracy: 0.9769 - val_loss: 0.0738 - val_accuracy: 0.9792\n",
      "Epoch 26/30\n",
      "1563/1563 [==============================] - 7s 4ms/step - loss: 0.0661 - accuracy: 0.9782 - val_loss: 0.0730 - val_accuracy: 0.9801\n",
      "Epoch 27/30\n",
      "1563/1563 [==============================] - 6s 4ms/step - loss: 0.0638 - accuracy: 0.9794 - val_loss: 0.0714 - val_accuracy: 0.9809\n",
      "Epoch 28/30\n",
      "1563/1563 [==============================] - 6s 4ms/step - loss: 0.0643 - accuracy: 0.9791 - val_loss: 0.0714 - val_accuracy: 0.9814\n",
      "Epoch 29/30\n",
      "1563/1563 [==============================] - 6s 4ms/step - loss: 0.0600 - accuracy: 0.9811 - val_loss: 0.0725 - val_accuracy: 0.9814\n",
      "Epoch 30/30\n",
      "1563/1563 [==============================] - 6s 4ms/step - loss: 0.0607 - accuracy: 0.9799 - val_loss: 0.0718 - val_accuracy: 0.9804\n"
     ]
    }
   ],
   "source": [
    "historyf = model.fit(X_train, y_train, batch_size=32, epochs=30,\n",
    "                    validation_data=(X_valid, y_valid))"
   ]
  },
  {
   "cell_type": "code",
   "execution_count": 167,
   "metadata": {},
   "outputs": [
    {
     "data": {
      "image/png": "[encoded data removed]",
      "text/plain": [
       "<Figure size 576x360 with 1 Axes>"
      ]
     },
     "metadata": {
      "needs_background": "light"
     },
     "output_type": "display_data"
    }
   ],
   "source": [
    "pd.DataFrame(historyf.history).plot(figsize=(8, 5))\n",
    "plt.grid(True)\n",
    "plt.gca().set_ylim(0, 1)\n",
    "plt.show()"
   ]
  },
  {
   "cell_type": "code",
   "execution_count": 168,
   "metadata": {},
   "outputs": [
    {
     "name": "stdout",
     "output_type": "stream",
     "text": [
      "313/313 [==============================] - 1s 2ms/step - loss: 2.8259 - accuracy: 0.0974\n"
     ]
    },
    {
     "data": {
      "text/plain": [
       "[2.8258700370788574, 0.09740000218153]"
      ]
     },
     "execution_count": 168,
     "metadata": {},
     "output_type": "execute_result"
    }
   ],
   "source": [
    "model.evaluate(X_test, y_test)"
   ]
  },
  {
   "cell_type": "markdown",
   "metadata": {},
   "source": [
    "## optimizer=Adam"
   ]
  },
  {
   "cell_type": "code",
   "execution_count": 169,
   "metadata": {},
   "outputs": [],
   "source": [
    "model.compile(loss=\"sparse_categorical_crossentropy\",\n",
    "              optimizer=\"Adam\",\n",
    "              metrics=[\"accuracy\"])"
   ]
  },
  {
   "cell_type": "code",
   "execution_count": 170,
   "metadata": {},
   "outputs": [
    {
     "name": "stdout",
     "output_type": "stream",
     "text": [
      "Epoch 1/30\n",
      "1563/1563 [==============================] - 8s 5ms/step - loss: 0.1859 - accuracy: 0.9410 - val_loss: 0.0882 - val_accuracy: 0.9745\n",
      "Epoch 2/30\n",
      "1563/1563 [==============================] - 7s 5ms/step - loss: 0.1462 - accuracy: 0.9545 - val_loss: 0.0872 - val_accuracy: 0.9732\n",
      "Epoch 3/30\n",
      "1563/1563 [==============================] - 8s 5ms/step - loss: 0.1305 - accuracy: 0.9590 - val_loss: 0.0793 - val_accuracy: 0.9760\n",
      "Epoch 4/30\n",
      "1563/1563 [==============================] - 7s 5ms/step - loss: 0.1159 - accuracy: 0.9636 - val_loss: 0.0768 - val_accuracy: 0.9757\n",
      "Epoch 5/30\n",
      "1563/1563 [==============================] - 8s 5ms/step - loss: 0.1076 - accuracy: 0.9660 - val_loss: 0.0754 - val_accuracy: 0.9762\n",
      "Epoch 6/30\n",
      "1563/1563 [==============================] - 8s 5ms/step - loss: 0.0993 - accuracy: 0.9687 - val_loss: 0.0710 - val_accuracy: 0.9779\n",
      "Epoch 7/30\n",
      "1563/1563 [==============================] - 9s 6ms/step - loss: 0.0929 - accuracy: 0.9711 - val_loss: 0.0779 - val_accuracy: 0.9765\n",
      "Epoch 8/30\n",
      "1563/1563 [==============================] - 9s 6ms/step - loss: 0.0879 - accuracy: 0.9733 - val_loss: 0.0709 - val_accuracy: 0.9789\n",
      "Epoch 9/30\n",
      "1563/1563 [==============================] - 9s 6ms/step - loss: 0.0810 - accuracy: 0.9755 - val_loss: 0.0693 - val_accuracy: 0.9787\n",
      "Epoch 10/30\n",
      "1563/1563 [==============================] - 8s 5ms/step - loss: 0.0785 - accuracy: 0.9759 - val_loss: 0.0689 - val_accuracy: 0.9789\n",
      "Epoch 11/30\n",
      "1563/1563 [==============================] - 7s 5ms/step - loss: 0.0708 - accuracy: 0.9779 - val_loss: 0.0727 - val_accuracy: 0.9786\n",
      "Epoch 12/30\n",
      "1563/1563 [==============================] - 11s 7ms/step - loss: 0.0692 - accuracy: 0.9782 - val_loss: 0.0729 - val_accuracy: 0.9778\n",
      "Epoch 13/30\n",
      "1563/1563 [==============================] - 10s 6ms/step - loss: 0.0660 - accuracy: 0.9793 - val_loss: 0.0661 - val_accuracy: 0.9796\n",
      "Epoch 14/30\n",
      "1563/1563 [==============================] - 9s 6ms/step - loss: 0.0638 - accuracy: 0.9804 - val_loss: 0.0652 - val_accuracy: 0.9814\n",
      "Epoch 15/30\n",
      "1563/1563 [==============================] - 7s 5ms/step - loss: 0.0631 - accuracy: 0.9802 - val_loss: 0.0630 - val_accuracy: 0.9818\n",
      "Epoch 16/30\n",
      "1563/1563 [==============================] - 8s 5ms/step - loss: 0.0590 - accuracy: 0.9816 - val_loss: 0.0691 - val_accuracy: 0.9798\n",
      "Epoch 17/30\n",
      "1563/1563 [==============================] - 8s 5ms/step - loss: 0.0551 - accuracy: 0.9821 - val_loss: 0.0678 - val_accuracy: 0.9814\n",
      "Epoch 18/30\n",
      "1563/1563 [==============================] - 8s 5ms/step - loss: 0.0522 - accuracy: 0.9838 - val_loss: 0.0615 - val_accuracy: 0.9821\n",
      "Epoch 19/30\n",
      "1563/1563 [==============================] - 8s 5ms/step - loss: 0.0507 - accuracy: 0.9839 - val_loss: 0.0646 - val_accuracy: 0.9819\n",
      "Epoch 20/30\n",
      "1563/1563 [==============================] - 8s 5ms/step - loss: 0.0509 - accuracy: 0.9841 - val_loss: 0.0658 - val_accuracy: 0.9809\n",
      "Epoch 21/30\n",
      "1563/1563 [==============================] - 7s 5ms/step - loss: 0.0468 - accuracy: 0.9852 - val_loss: 0.0636 - val_accuracy: 0.9816\n",
      "Epoch 22/30\n",
      "1563/1563 [==============================] - 8s 5ms/step - loss: 0.0478 - accuracy: 0.9845 - val_loss: 0.0688 - val_accuracy: 0.9805\n",
      "Epoch 23/30\n",
      "1563/1563 [==============================] - 9s 6ms/step - loss: 0.0451 - accuracy: 0.9858 - val_loss: 0.0622 - val_accuracy: 0.9829\n",
      "Epoch 24/30\n",
      "1563/1563 [==============================] - 8s 5ms/step - loss: 0.0476 - accuracy: 0.9856 - val_loss: 0.0590 - val_accuracy: 0.9836\n",
      "Epoch 25/30\n",
      "1563/1563 [==============================] - 7s 5ms/step - loss: 0.0427 - accuracy: 0.9865 - val_loss: 0.0625 - val_accuracy: 0.9825\n",
      "Epoch 26/30\n",
      "1563/1563 [==============================] - 7s 5ms/step - loss: 0.0418 - accuracy: 0.9867 - val_loss: 0.0629 - val_accuracy: 0.9824\n",
      "Epoch 27/30\n",
      "1563/1563 [==============================] - 7s 5ms/step - loss: 0.0406 - accuracy: 0.9868 - val_loss: 0.0660 - val_accuracy: 0.9825\n",
      "Epoch 28/30\n",
      "1563/1563 [==============================] - 7s 5ms/step - loss: 0.0393 - accuracy: 0.9875 - val_loss: 0.0610 - val_accuracy: 0.9836\n",
      "Epoch 29/30\n",
      "1563/1563 [==============================] - 7s 4ms/step - loss: 0.0383 - accuracy: 0.9882 - val_loss: 0.0581 - val_accuracy: 0.9842\n",
      "Epoch 30/30\n",
      "1563/1563 [==============================] - 7s 4ms/step - loss: 0.0374 - accuracy: 0.9886 - val_loss: 0.0564 - val_accuracy: 0.9840\n"
     ]
    }
   ],
   "source": [
    "historyf1 = model.fit(X_train, y_train, batch_size=32, epochs=30,\n",
    "                    validation_data=(X_valid, y_valid))"
   ]
  },
  {
   "cell_type": "code",
   "execution_count": 171,
   "metadata": {},
   "outputs": [
    {
     "data": {
      "image/png": "[encoded data removed]",
      "text/plain": [
       "<Figure size 576x360 with 1 Axes>"
      ]
     },
     "metadata": {
      "needs_background": "light"
     },
     "output_type": "display_data"
    }
   ],
   "source": [
    "pd.DataFrame(historyf1.history).plot(figsize=(8, 5))\n",
    "plt.grid(True)\n",
    "plt.gca().set_ylim(0, 1)\n",
    "plt.show()"
   ]
  },
  {
   "cell_type": "code",
   "execution_count": 172,
   "metadata": {},
   "outputs": [
    {
     "name": "stdout",
     "output_type": "stream",
     "text": [
      "313/313 [==============================] - 1s 2ms/step - loss: 3.3836 - accuracy: 0.0974\n"
     ]
    },
    {
     "data": {
      "text/plain": [
       "[3.38362455368042, 0.09740000218153]"
      ]
     },
     "execution_count": 172,
     "metadata": {},
     "output_type": "execute_result"
    }
   ],
   "source": [
    "model.evaluate(X_test, y_test)"
   ]
  },
  {
   "cell_type": "code",
   "execution_count": null,
   "metadata": {},
   "outputs": [],
   "source": []
  }
 ],
 "metadata": {
  "kernelspec": {
   "display_name": "Python 3",
   "language": "python",
   "name": "python3"
  },
  "language_info": {
   "codemirror_mode": {
    "name": "ipython",
    "version": 3
   },
   "file_extension": ".py",
   "mimetype": "text/x-python",
   "name": "python",
   "nbconvert_exporter": "python",
   "pygments_lexer": "ipython3",
   "version": "3.7.4"
  }
 },
 "nbformat": 4,
 "nbformat_minor": 2
}
